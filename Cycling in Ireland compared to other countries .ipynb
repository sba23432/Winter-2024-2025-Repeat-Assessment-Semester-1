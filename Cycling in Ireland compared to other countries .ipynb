{
 "cells": [
  {
   "cell_type": "markdown",
   "id": "08f63ee3",
   "metadata": {},
   "source": [
    "# Section 1 Introduction"
   ]
  },
  {
   "cell_type": "code",
   "execution_count": 1,
   "id": "873c88d3",
   "metadata": {},
   "outputs": [],
   "source": [
    "import pandas as pd ##pandas is imported as pd as a shorthathand when using the library \n",
    "import numpy as np ##Numpy is imported as np as a shorthathand when using the library \n",
    "import seaborn as sns #visualisation\n",
    "from sklearn.preprocessing import StandardScaler\n",
    "from scipy import stats  ###used for t test\n",
    "from scipy.stats import ttest_ind  ##indepent t test\n",
    "import matplotlib.pyplot as plt"
   ]
  },
  {
   "cell_type": "code",
   "execution_count": 2,
   "id": "ec1ab018",
   "metadata": {},
   "outputs": [
    {
     "name": "stderr",
     "output_type": "stream",
     "text": [
      "C:\\Users\\T\\AppData\\Local\\Temp\\ipykernel_21412\\1367776806.py:2: DtypeWarning: Columns (10) have mixed types. Specify dtype option on import or set low_memory=False.\n",
      "  dfla = pd.read_csv(\"BikeshareLAQ3.csv\")\n"
     ]
    }
   ],
   "source": [
    "##pandas used to read in bikes dataset \n",
    "dft = pd.read_csv(\"BikeshareTorontoMar2023.csv\")\n",
    "dfla = pd.read_csv(\"BikeshareLAQ3.csv\")\n",
    "\n",
    "\n",
    "\n"
   ]
  },
  {
   "cell_type": "markdown",
   "id": "4b08fea0",
   "metadata": {},
   "source": [
    "# Section 1.1 data cleaning and exploration of LA data"
   ]
  },
  {
   "cell_type": "code",
   "execution_count": 3,
   "id": "d7ce9e8a",
   "metadata": {},
   "outputs": [
    {
     "name": "stderr",
     "output_type": "stream",
     "text": [
      "C:\\Users\\T\\AppData\\Local\\Temp\\ipykernel_21412\\4218395995.py:5: DtypeWarning: Columns (10) have mixed types. Specify dtype option on import or set low_memory=False.\n",
      "  dfla = pd.read_csv(\"BikeshareLAQ3.csv\", na_values = missing_value_formats)\n"
     ]
    }
   ],
   "source": [
    "##I had an issue with geoplot code because there was some sort of na value present.\n",
    "##The code below has listed all the possible missing values. \n",
    "\n",
    "missing_value_formats = [\"n.a.\",\"?\",\"NA\",\"n/a\", \"na\", \"--\"]\n",
    "dfla = pd.read_csv(\"BikeshareLAQ3.csv\", na_values = missing_value_formats)"
   ]
  },
  {
   "cell_type": "code",
   "execution_count": 4,
   "id": "a763b726",
   "metadata": {},
   "outputs": [
    {
     "data": {
      "text/plain": [
       "(130753, 15)"
      ]
     },
     "execution_count": 4,
     "metadata": {},
     "output_type": "execute_result"
    }
   ],
   "source": [
    "dfla.shape"
   ]
  },
  {
   "cell_type": "code",
   "execution_count": 5,
   "id": "79672460",
   "metadata": {},
   "outputs": [
    {
     "data": {
      "text/plain": [
       "trip_id                   0\n",
       "duration                  0\n",
       "start_time                0\n",
       "end_time                  0\n",
       "start_station             0\n",
       "start_lat                22\n",
       "start_lon                22\n",
       "end_station               0\n",
       "end_lat                2061\n",
       "end_lon                2061\n",
       "bike_id                   0\n",
       "plan_duration             0\n",
       "trip_route_category       0\n",
       "passholder_type           0\n",
       "bike_type                 0\n",
       "dtype: int64"
      ]
     },
     "execution_count": 5,
     "metadata": {},
     "output_type": "execute_result"
    }
   ],
   "source": [
    "dfla.isnull().sum()"
   ]
  },
  {
   "cell_type": "code",
   "execution_count": 6,
   "id": "2569e977",
   "metadata": {},
   "outputs": [
    {
     "name": "stdout",
     "output_type": "stream",
     "text": [
      "          trip_id  duration       start_time         end_time  start_station  \\\n",
      "32      276705846       498    7/1/2023 2:21   7/1/2023 10:39           4627   \n",
      "33      276718188       518    7/1/2023 2:27   7/1/2023 11:05           4627   \n",
      "50      276668310        17    7/1/2023 6:51    7/1/2023 7:08           3011   \n",
      "118     276773997         5    7/1/2023 9:03    7/1/2023 9:08           3037   \n",
      "249     276745105        20   7/1/2023 10:35   7/1/2023 10:55           4523   \n",
      "...           ...       ...              ...              ...            ...   \n",
      "130394  307599172        10  9/30/2023 18:14  9/30/2023 18:24           4524   \n",
      "130458  307599277        36  9/30/2023 18:44  9/30/2023 19:20           4214   \n",
      "130493  307577452         5  9/30/2023 19:01  9/30/2023 19:06           3006   \n",
      "130696  307721332        17  9/30/2023 22:20  9/30/2023 22:37           4482   \n",
      "130716  307735548        15  9/30/2023 22:40  9/30/2023 22:55           4301   \n",
      "\n",
      "        start_lat   start_lon  end_station  end_lat  end_lon bike_id  \\\n",
      "32      34.101849 -118.325142         3000      NaN      NaN   30114   \n",
      "33      34.101849 -118.325142         3000      NaN      NaN   28881   \n",
      "50      34.041130 -118.267982         3000      NaN      NaN   20119   \n",
      "118     34.034801 -118.231277         3000      NaN      NaN   23373   \n",
      "249     34.068748 -118.309280         3000      NaN      NaN   24046   \n",
      "...           ...         ...          ...      ...      ...     ...   \n",
      "130394  34.061630 -118.301193         3000      NaN      NaN   24420   \n",
      "130458  33.995560 -118.481552         3000      NaN      NaN   12305   \n",
      "130493  34.045540 -118.256668         3000      NaN      NaN   26724   \n",
      "130696  34.094372 -118.331009         3000      NaN      NaN   18988   \n",
      "130716  34.099049 -118.291496         3000      NaN      NaN   21930   \n",
      "\n",
      "        plan_duration trip_route_category passholder_type bike_type  \n",
      "32                  1             One Way    One Day Pass  electric  \n",
      "33                  1             One Way         Walk-up  electric  \n",
      "50                  1             One Way    One Day Pass  standard  \n",
      "118               365             One Way     Annual Pass  electric  \n",
      "249                30             One Way    Monthly Pass  electric  \n",
      "...               ...                 ...             ...       ...  \n",
      "130394             30             One Way    Monthly Pass  electric  \n",
      "130458              1             One Way         Walk-up  standard  \n",
      "130493             30             One Way    Monthly Pass  electric  \n",
      "130696             30             One Way    Monthly Pass  electric  \n",
      "130716             30             One Way    Monthly Pass  electric  \n",
      "\n",
      "[2061 rows x 15 columns]\n"
     ]
    }
   ],
   "source": [
    "##lets look at some of the null value rows to try and find a connection between them.\n",
    "rows_with_nulls = dfla[dfla.isnull().any(axis=1)]\n",
    "print(rows_with_nulls)"
   ]
  },
  {
   "cell_type": "code",
   "execution_count": 7,
   "id": "ddf7fdd9",
   "metadata": {},
   "outputs": [
    {
     "data": {
      "text/html": [
       "<div>\n",
       "<style scoped>\n",
       "    .dataframe tbody tr th:only-of-type {\n",
       "        vertical-align: middle;\n",
       "    }\n",
       "\n",
       "    .dataframe tbody tr th {\n",
       "        vertical-align: top;\n",
       "    }\n",
       "\n",
       "    .dataframe thead th {\n",
       "        text-align: right;\n",
       "    }\n",
       "</style>\n",
       "<table border=\"1\" class=\"dataframe\">\n",
       "  <thead>\n",
       "    <tr style=\"text-align: right;\">\n",
       "      <th></th>\n",
       "      <th>trip_id</th>\n",
       "      <th>duration</th>\n",
       "      <th>start_time</th>\n",
       "      <th>end_time</th>\n",
       "      <th>start_station</th>\n",
       "      <th>start_lat</th>\n",
       "      <th>start_lon</th>\n",
       "      <th>end_station</th>\n",
       "      <th>end_lat</th>\n",
       "      <th>end_lon</th>\n",
       "      <th>bike_id</th>\n",
       "      <th>plan_duration</th>\n",
       "      <th>trip_route_category</th>\n",
       "      <th>passholder_type</th>\n",
       "      <th>bike_type</th>\n",
       "    </tr>\n",
       "  </thead>\n",
       "  <tbody>\n",
       "    <tr>\n",
       "      <th>32</th>\n",
       "      <td>276705846</td>\n",
       "      <td>498</td>\n",
       "      <td>7/1/2023 2:21</td>\n",
       "      <td>7/1/2023 10:39</td>\n",
       "      <td>4627</td>\n",
       "      <td>34.101849</td>\n",
       "      <td>-118.325142</td>\n",
       "      <td>3000</td>\n",
       "      <td>NaN</td>\n",
       "      <td>NaN</td>\n",
       "      <td>30114</td>\n",
       "      <td>1</td>\n",
       "      <td>One Way</td>\n",
       "      <td>One Day Pass</td>\n",
       "      <td>electric</td>\n",
       "    </tr>\n",
       "    <tr>\n",
       "      <th>33</th>\n",
       "      <td>276718188</td>\n",
       "      <td>518</td>\n",
       "      <td>7/1/2023 2:27</td>\n",
       "      <td>7/1/2023 11:05</td>\n",
       "      <td>4627</td>\n",
       "      <td>34.101849</td>\n",
       "      <td>-118.325142</td>\n",
       "      <td>3000</td>\n",
       "      <td>NaN</td>\n",
       "      <td>NaN</td>\n",
       "      <td>28881</td>\n",
       "      <td>1</td>\n",
       "      <td>One Way</td>\n",
       "      <td>Walk-up</td>\n",
       "      <td>electric</td>\n",
       "    </tr>\n",
       "    <tr>\n",
       "      <th>50</th>\n",
       "      <td>276668310</td>\n",
       "      <td>17</td>\n",
       "      <td>7/1/2023 6:51</td>\n",
       "      <td>7/1/2023 7:08</td>\n",
       "      <td>3011</td>\n",
       "      <td>34.041130</td>\n",
       "      <td>-118.267982</td>\n",
       "      <td>3000</td>\n",
       "      <td>NaN</td>\n",
       "      <td>NaN</td>\n",
       "      <td>20119</td>\n",
       "      <td>1</td>\n",
       "      <td>One Way</td>\n",
       "      <td>One Day Pass</td>\n",
       "      <td>standard</td>\n",
       "    </tr>\n",
       "    <tr>\n",
       "      <th>118</th>\n",
       "      <td>276773997</td>\n",
       "      <td>5</td>\n",
       "      <td>7/1/2023 9:03</td>\n",
       "      <td>7/1/2023 9:08</td>\n",
       "      <td>3037</td>\n",
       "      <td>34.034801</td>\n",
       "      <td>-118.231277</td>\n",
       "      <td>3000</td>\n",
       "      <td>NaN</td>\n",
       "      <td>NaN</td>\n",
       "      <td>23373</td>\n",
       "      <td>365</td>\n",
       "      <td>One Way</td>\n",
       "      <td>Annual Pass</td>\n",
       "      <td>electric</td>\n",
       "    </tr>\n",
       "    <tr>\n",
       "      <th>249</th>\n",
       "      <td>276745105</td>\n",
       "      <td>20</td>\n",
       "      <td>7/1/2023 10:35</td>\n",
       "      <td>7/1/2023 10:55</td>\n",
       "      <td>4523</td>\n",
       "      <td>34.068748</td>\n",
       "      <td>-118.309280</td>\n",
       "      <td>3000</td>\n",
       "      <td>NaN</td>\n",
       "      <td>NaN</td>\n",
       "      <td>24046</td>\n",
       "      <td>30</td>\n",
       "      <td>One Way</td>\n",
       "      <td>Monthly Pass</td>\n",
       "      <td>electric</td>\n",
       "    </tr>\n",
       "    <tr>\n",
       "      <th>...</th>\n",
       "      <td>...</td>\n",
       "      <td>...</td>\n",
       "      <td>...</td>\n",
       "      <td>...</td>\n",
       "      <td>...</td>\n",
       "      <td>...</td>\n",
       "      <td>...</td>\n",
       "      <td>...</td>\n",
       "      <td>...</td>\n",
       "      <td>...</td>\n",
       "      <td>...</td>\n",
       "      <td>...</td>\n",
       "      <td>...</td>\n",
       "      <td>...</td>\n",
       "      <td>...</td>\n",
       "    </tr>\n",
       "    <tr>\n",
       "      <th>7248</th>\n",
       "      <td>278358698</td>\n",
       "      <td>4</td>\n",
       "      <td>7/6/2023 13:13</td>\n",
       "      <td>7/6/2023 13:17</td>\n",
       "      <td>3064</td>\n",
       "      <td>34.046131</td>\n",
       "      <td>-118.257591</td>\n",
       "      <td>3000</td>\n",
       "      <td>NaN</td>\n",
       "      <td>NaN</td>\n",
       "      <td>6631</td>\n",
       "      <td>365</td>\n",
       "      <td>One Way</td>\n",
       "      <td>Annual Pass</td>\n",
       "      <td>standard</td>\n",
       "    </tr>\n",
       "    <tr>\n",
       "      <th>7299</th>\n",
       "      <td>278612608</td>\n",
       "      <td>1278</td>\n",
       "      <td>7/6/2023 13:41</td>\n",
       "      <td>7/7/2023 10:59</td>\n",
       "      <td>4450</td>\n",
       "      <td>34.063492</td>\n",
       "      <td>-118.287163</td>\n",
       "      <td>3000</td>\n",
       "      <td>NaN</td>\n",
       "      <td>NaN</td>\n",
       "      <td>30176</td>\n",
       "      <td>30</td>\n",
       "      <td>One Way</td>\n",
       "      <td>Monthly Pass</td>\n",
       "      <td>electric</td>\n",
       "    </tr>\n",
       "    <tr>\n",
       "      <th>7322</th>\n",
       "      <td>278346380</td>\n",
       "      <td>12</td>\n",
       "      <td>7/6/2023 14:08</td>\n",
       "      <td>7/6/2023 14:20</td>\n",
       "      <td>3011</td>\n",
       "      <td>34.041130</td>\n",
       "      <td>-118.267982</td>\n",
       "      <td>3000</td>\n",
       "      <td>NaN</td>\n",
       "      <td>NaN</td>\n",
       "      <td>20033</td>\n",
       "      <td>30</td>\n",
       "      <td>One Way</td>\n",
       "      <td>Monthly Pass</td>\n",
       "      <td>standard</td>\n",
       "    </tr>\n",
       "    <tr>\n",
       "      <th>7347</th>\n",
       "      <td>278359132</td>\n",
       "      <td>28</td>\n",
       "      <td>7/6/2023 14:29</td>\n",
       "      <td>7/6/2023 14:57</td>\n",
       "      <td>4214</td>\n",
       "      <td>33.995560</td>\n",
       "      <td>-118.481552</td>\n",
       "      <td>3000</td>\n",
       "      <td>NaN</td>\n",
       "      <td>NaN</td>\n",
       "      <td>6617</td>\n",
       "      <td>1</td>\n",
       "      <td>One Way</td>\n",
       "      <td>Walk-up</td>\n",
       "      <td>standard</td>\n",
       "    </tr>\n",
       "    <tr>\n",
       "      <th>7395</th>\n",
       "      <td>278424847</td>\n",
       "      <td>11</td>\n",
       "      <td>7/6/2023 15:19</td>\n",
       "      <td>7/6/2023 15:30</td>\n",
       "      <td>4554</td>\n",
       "      <td>34.003510</td>\n",
       "      <td>-118.434380</td>\n",
       "      <td>3000</td>\n",
       "      <td>NaN</td>\n",
       "      <td>NaN</td>\n",
       "      <td>13926</td>\n",
       "      <td>1</td>\n",
       "      <td>One Way</td>\n",
       "      <td>Walk-up</td>\n",
       "      <td>standard</td>\n",
       "    </tr>\n",
       "  </tbody>\n",
       "</table>\n",
       "<p>100 rows × 15 columns</p>\n",
       "</div>"
      ],
      "text/plain": [
       "        trip_id  duration      start_time        end_time  start_station  \\\n",
       "32    276705846       498   7/1/2023 2:21  7/1/2023 10:39           4627   \n",
       "33    276718188       518   7/1/2023 2:27  7/1/2023 11:05           4627   \n",
       "50    276668310        17   7/1/2023 6:51   7/1/2023 7:08           3011   \n",
       "118   276773997         5   7/1/2023 9:03   7/1/2023 9:08           3037   \n",
       "249   276745105        20  7/1/2023 10:35  7/1/2023 10:55           4523   \n",
       "...         ...       ...             ...             ...            ...   \n",
       "7248  278358698         4  7/6/2023 13:13  7/6/2023 13:17           3064   \n",
       "7299  278612608      1278  7/6/2023 13:41  7/7/2023 10:59           4450   \n",
       "7322  278346380        12  7/6/2023 14:08  7/6/2023 14:20           3011   \n",
       "7347  278359132        28  7/6/2023 14:29  7/6/2023 14:57           4214   \n",
       "7395  278424847        11  7/6/2023 15:19  7/6/2023 15:30           4554   \n",
       "\n",
       "      start_lat   start_lon  end_station  end_lat  end_lon bike_id  \\\n",
       "32    34.101849 -118.325142         3000      NaN      NaN   30114   \n",
       "33    34.101849 -118.325142         3000      NaN      NaN   28881   \n",
       "50    34.041130 -118.267982         3000      NaN      NaN   20119   \n",
       "118   34.034801 -118.231277         3000      NaN      NaN   23373   \n",
       "249   34.068748 -118.309280         3000      NaN      NaN   24046   \n",
       "...         ...         ...          ...      ...      ...     ...   \n",
       "7248  34.046131 -118.257591         3000      NaN      NaN    6631   \n",
       "7299  34.063492 -118.287163         3000      NaN      NaN   30176   \n",
       "7322  34.041130 -118.267982         3000      NaN      NaN   20033   \n",
       "7347  33.995560 -118.481552         3000      NaN      NaN    6617   \n",
       "7395  34.003510 -118.434380         3000      NaN      NaN   13926   \n",
       "\n",
       "      plan_duration trip_route_category passholder_type bike_type  \n",
       "32                1             One Way    One Day Pass  electric  \n",
       "33                1             One Way         Walk-up  electric  \n",
       "50                1             One Way    One Day Pass  standard  \n",
       "118             365             One Way     Annual Pass  electric  \n",
       "249              30             One Way    Monthly Pass  electric  \n",
       "...             ...                 ...             ...       ...  \n",
       "7248            365             One Way     Annual Pass  standard  \n",
       "7299             30             One Way    Monthly Pass  electric  \n",
       "7322             30             One Way    Monthly Pass  standard  \n",
       "7347              1             One Way         Walk-up  standard  \n",
       "7395              1             One Way         Walk-up  standard  \n",
       "\n",
       "[100 rows x 15 columns]"
      ]
     },
     "execution_count": 7,
     "metadata": {},
     "output_type": "execute_result"
    }
   ],
   "source": [
    "rows_with_nulls.head(100)"
   ]
  },
  {
   "cell_type": "markdown",
   "id": "95dd5085",
   "metadata": {},
   "source": [
    "##Looks like mostly one-way trips result in the null values"
   ]
  },
  {
   "cell_type": "code",
   "execution_count": 94,
   "id": "0553d6a5",
   "metadata": {},
   "outputs": [],
   "source": [
    "#This shows me the null values aren't exclusive to One way trips\n",
    "unique_trip_category = rows_with_nulls['trip_route_category'].unique()"
   ]
  },
  {
   "cell_type": "code",
   "execution_count": 95,
   "id": "3408db59",
   "metadata": {},
   "outputs": [
    {
     "data": {
      "text/plain": [
       "array(['One Way', 'Round Trip'], dtype=object)"
      ]
     },
     "execution_count": 95,
     "metadata": {},
     "output_type": "execute_result"
    }
   ],
   "source": [
    "unique_trip_category "
   ]
  },
  {
   "cell_type": "code",
   "execution_count": 9,
   "id": "c372ca62",
   "metadata": {},
   "outputs": [
    {
     "name": "stdout",
     "output_type": "stream",
     "text": [
      "trip_route_category\n",
      "One Way       107025\n",
      "Round Trip     23728\n",
      "Name: count, dtype: int64\n"
     ]
    }
   ],
   "source": [
    "##The information is further confirmation that the null values weren't exclusive to One way trips\n",
    "\n",
    "dfla_value_counts = dfla['trip_route_category'].value_counts()\n",
    "print(dfla_value_counts )"
   ]
  },
  {
   "cell_type": "code",
   "execution_count": 10,
   "id": "2835b7e3",
   "metadata": {},
   "outputs": [
    {
     "name": "stdout",
     "output_type": "stream",
     "text": [
      "['One Way' 'Round Trip']\n"
     ]
    }
   ],
   "source": [
    "print(unique_trip_category)"
   ]
  },
  {
   "cell_type": "code",
   "execution_count": 11,
   "id": "c724e447",
   "metadata": {},
   "outputs": [
    {
     "name": "stdout",
     "output_type": "stream",
     "text": [
      "trip_route_category\n",
      "One Way       2041\n",
      "Round Trip      20\n",
      "Name: count, dtype: int64\n"
     ]
    }
   ],
   "source": [
    "value_counts = rows_with_nulls['trip_route_category'].value_counts()\n",
    "\n",
    "print(value_counts)"
   ]
  },
  {
   "cell_type": "code",
   "execution_count": 12,
   "id": "a6540885",
   "metadata": {},
   "outputs": [
    {
     "data": {
      "text/plain": [
       "False"
      ]
     },
     "execution_count": 12,
     "metadata": {},
     "output_type": "execute_result"
    }
   ],
   "source": [
    "# drop all rows with NaN values\n",
    "dfla = dfla.dropna(axis=0)\n",
    "\n",
    "# check if we have any NaN values in our dataset\n",
    "dfla.isnull().values.any()\n",
    "\n"
   ]
  },
  {
   "cell_type": "code",
   "execution_count": 13,
   "id": "9a77cdbb",
   "metadata": {},
   "outputs": [
    {
     "data": {
      "text/plain": [
       "trip_id                0\n",
       "duration               0\n",
       "start_time             0\n",
       "end_time               0\n",
       "start_station          0\n",
       "start_lat              0\n",
       "start_lon              0\n",
       "end_station            0\n",
       "end_lat                0\n",
       "end_lon                0\n",
       "bike_id                0\n",
       "plan_duration          0\n",
       "trip_route_category    0\n",
       "passholder_type        0\n",
       "bike_type              0\n",
       "dtype: int64"
      ]
     },
     "execution_count": 13,
     "metadata": {},
     "output_type": "execute_result"
    }
   ],
   "source": [
    "dfla.isnull().sum()"
   ]
  },
  {
   "cell_type": "code",
   "execution_count": 14,
   "id": "363e24d5",
   "metadata": {},
   "outputs": [
    {
     "data": {
      "text/html": [
       "<div>\n",
       "<style scoped>\n",
       "    .dataframe tbody tr th:only-of-type {\n",
       "        vertical-align: middle;\n",
       "    }\n",
       "\n",
       "    .dataframe tbody tr th {\n",
       "        vertical-align: top;\n",
       "    }\n",
       "\n",
       "    .dataframe thead th {\n",
       "        text-align: right;\n",
       "    }\n",
       "</style>\n",
       "<table border=\"1\" class=\"dataframe\">\n",
       "  <thead>\n",
       "    <tr style=\"text-align: right;\">\n",
       "      <th></th>\n",
       "      <th>trip_id</th>\n",
       "      <th>duration</th>\n",
       "      <th>start_time</th>\n",
       "      <th>end_time</th>\n",
       "      <th>start_station</th>\n",
       "      <th>start_lat</th>\n",
       "      <th>start_lon</th>\n",
       "      <th>end_station</th>\n",
       "      <th>end_lat</th>\n",
       "      <th>end_lon</th>\n",
       "      <th>bike_id</th>\n",
       "      <th>plan_duration</th>\n",
       "      <th>trip_route_category</th>\n",
       "      <th>passholder_type</th>\n",
       "      <th>bike_type</th>\n",
       "    </tr>\n",
       "  </thead>\n",
       "  <tbody>\n",
       "    <tr>\n",
       "      <th>0</th>\n",
       "      <td>276590229</td>\n",
       "      <td>1</td>\n",
       "      <td>7/1/2023 0:01</td>\n",
       "      <td>7/1/2023 0:02</td>\n",
       "      <td>4215</td>\n",
       "      <td>34.014309</td>\n",
       "      <td>-118.491341</td>\n",
       "      <td>4215</td>\n",
       "      <td>34.014309</td>\n",
       "      <td>-118.491341</td>\n",
       "      <td>30096</td>\n",
       "      <td>1</td>\n",
       "      <td>Round Trip</td>\n",
       "      <td>Walk-up</td>\n",
       "      <td>electric</td>\n",
       "    </tr>\n",
       "    <tr>\n",
       "      <th>1</th>\n",
       "      <td>276590710</td>\n",
       "      <td>16</td>\n",
       "      <td>7/1/2023 0:02</td>\n",
       "      <td>7/1/2023 0:18</td>\n",
       "      <td>4494</td>\n",
       "      <td>34.075981</td>\n",
       "      <td>-118.256012</td>\n",
       "      <td>3031</td>\n",
       "      <td>34.044701</td>\n",
       "      <td>-118.252441</td>\n",
       "      <td>24279</td>\n",
       "      <td>30</td>\n",
       "      <td>One Way</td>\n",
       "      <td>Monthly Pass</td>\n",
       "      <td>electric</td>\n",
       "    </tr>\n",
       "    <tr>\n",
       "      <th>2</th>\n",
       "      <td>276613156</td>\n",
       "      <td>148</td>\n",
       "      <td>7/1/2023 0:02</td>\n",
       "      <td>7/1/2023 2:30</td>\n",
       "      <td>4215</td>\n",
       "      <td>34.014309</td>\n",
       "      <td>-118.491341</td>\n",
       "      <td>4215</td>\n",
       "      <td>34.014309</td>\n",
       "      <td>-118.491341</td>\n",
       "      <td>30240</td>\n",
       "      <td>1</td>\n",
       "      <td>Round Trip</td>\n",
       "      <td>Walk-up</td>\n",
       "      <td>electric</td>\n",
       "    </tr>\n",
       "    <tr>\n",
       "      <th>3</th>\n",
       "      <td>276590579</td>\n",
       "      <td>3</td>\n",
       "      <td>7/1/2023 0:03</td>\n",
       "      <td>7/1/2023 0:06</td>\n",
       "      <td>4215</td>\n",
       "      <td>34.014309</td>\n",
       "      <td>-118.491341</td>\n",
       "      <td>4215</td>\n",
       "      <td>34.014309</td>\n",
       "      <td>-118.491341</td>\n",
       "      <td>25395</td>\n",
       "      <td>1</td>\n",
       "      <td>Round Trip</td>\n",
       "      <td>Walk-up</td>\n",
       "      <td>electric</td>\n",
       "    </tr>\n",
       "    <tr>\n",
       "      <th>4</th>\n",
       "      <td>276613157</td>\n",
       "      <td>146</td>\n",
       "      <td>7/1/2023 0:04</td>\n",
       "      <td>7/1/2023 2:30</td>\n",
       "      <td>4215</td>\n",
       "      <td>34.014309</td>\n",
       "      <td>-118.491341</td>\n",
       "      <td>4215</td>\n",
       "      <td>34.014309</td>\n",
       "      <td>-118.491341</td>\n",
       "      <td>30084</td>\n",
       "      <td>1</td>\n",
       "      <td>Round Trip</td>\n",
       "      <td>Walk-up</td>\n",
       "      <td>electric</td>\n",
       "    </tr>\n",
       "  </tbody>\n",
       "</table>\n",
       "</div>"
      ],
      "text/plain": [
       "     trip_id  duration     start_time       end_time  start_station  \\\n",
       "0  276590229         1  7/1/2023 0:01  7/1/2023 0:02           4215   \n",
       "1  276590710        16  7/1/2023 0:02  7/1/2023 0:18           4494   \n",
       "2  276613156       148  7/1/2023 0:02  7/1/2023 2:30           4215   \n",
       "3  276590579         3  7/1/2023 0:03  7/1/2023 0:06           4215   \n",
       "4  276613157       146  7/1/2023 0:04  7/1/2023 2:30           4215   \n",
       "\n",
       "   start_lat   start_lon  end_station    end_lat     end_lon bike_id  \\\n",
       "0  34.014309 -118.491341         4215  34.014309 -118.491341   30096   \n",
       "1  34.075981 -118.256012         3031  34.044701 -118.252441   24279   \n",
       "2  34.014309 -118.491341         4215  34.014309 -118.491341   30240   \n",
       "3  34.014309 -118.491341         4215  34.014309 -118.491341   25395   \n",
       "4  34.014309 -118.491341         4215  34.014309 -118.491341   30084   \n",
       "\n",
       "   plan_duration trip_route_category passholder_type bike_type  \n",
       "0              1          Round Trip         Walk-up  electric  \n",
       "1             30             One Way    Monthly Pass  electric  \n",
       "2              1          Round Trip         Walk-up  electric  \n",
       "3              1          Round Trip         Walk-up  electric  \n",
       "4              1          Round Trip         Walk-up  electric  "
      ]
     },
     "execution_count": 14,
     "metadata": {},
     "output_type": "execute_result"
    }
   ],
   "source": [
    "##Look at what the LA dataset looks like\n",
    "dfla.head() "
   ]
  },
  {
   "cell_type": "code",
   "execution_count": 15,
   "id": "4aa9b1f8",
   "metadata": {},
   "outputs": [
    {
     "data": {
      "text/html": [
       "<div>\n",
       "<style scoped>\n",
       "    .dataframe tbody tr th:only-of-type {\n",
       "        vertical-align: middle;\n",
       "    }\n",
       "\n",
       "    .dataframe tbody tr th {\n",
       "        vertical-align: top;\n",
       "    }\n",
       "\n",
       "    .dataframe thead th {\n",
       "        text-align: right;\n",
       "    }\n",
       "</style>\n",
       "<table border=\"1\" class=\"dataframe\">\n",
       "  <thead>\n",
       "    <tr style=\"text-align: right;\">\n",
       "      <th></th>\n",
       "      <th>trip_id</th>\n",
       "      <th>duration</th>\n",
       "      <th>start_station</th>\n",
       "      <th>start_lat</th>\n",
       "      <th>start_lon</th>\n",
       "      <th>end_station</th>\n",
       "      <th>end_lat</th>\n",
       "      <th>end_lon</th>\n",
       "      <th>plan_duration</th>\n",
       "    </tr>\n",
       "  </thead>\n",
       "  <tbody>\n",
       "    <tr>\n",
       "      <th>count</th>\n",
       "      <td>1.286920e+05</td>\n",
       "      <td>128692.000000</td>\n",
       "      <td>128692.000000</td>\n",
       "      <td>128692.000000</td>\n",
       "      <td>128692.000000</td>\n",
       "      <td>128692.00000</td>\n",
       "      <td>128692.000000</td>\n",
       "      <td>128692.000000</td>\n",
       "      <td>128692.000000</td>\n",
       "    </tr>\n",
       "    <tr>\n",
       "      <th>mean</th>\n",
       "      <td>2.922786e+08</td>\n",
       "      <td>32.772736</td>\n",
       "      <td>3997.353783</td>\n",
       "      <td>34.034002</td>\n",
       "      <td>-118.346399</td>\n",
       "      <td>4000.92604</td>\n",
       "      <td>34.033939</td>\n",
       "      <td>-118.346831</td>\n",
       "      <td>48.237637</td>\n",
       "    </tr>\n",
       "    <tr>\n",
       "      <th>std</th>\n",
       "      <td>8.939550e+06</td>\n",
       "      <td>83.489098</td>\n",
       "      <td>636.527030</td>\n",
       "      <td>0.038379</td>\n",
       "      <td>0.095739</td>\n",
       "      <td>633.54718</td>\n",
       "      <td>0.038029</td>\n",
       "      <td>0.096024</td>\n",
       "      <td>96.022533</td>\n",
       "    </tr>\n",
       "    <tr>\n",
       "      <th>min</th>\n",
       "      <td>2.765902e+08</td>\n",
       "      <td>1.000000</td>\n",
       "      <td>3005.000000</td>\n",
       "      <td>33.928459</td>\n",
       "      <td>-118.491341</td>\n",
       "      <td>3005.00000</td>\n",
       "      <td>33.928459</td>\n",
       "      <td>-118.491341</td>\n",
       "      <td>1.000000</td>\n",
       "    </tr>\n",
       "    <tr>\n",
       "      <th>25%</th>\n",
       "      <td>2.845527e+08</td>\n",
       "      <td>7.000000</td>\n",
       "      <td>3068.000000</td>\n",
       "      <td>34.003510</td>\n",
       "      <td>-118.451248</td>\n",
       "      <td>3068.00000</td>\n",
       "      <td>34.014309</td>\n",
       "      <td>-118.451248</td>\n",
       "      <td>1.000000</td>\n",
       "    </tr>\n",
       "    <tr>\n",
       "      <th>50%</th>\n",
       "      <td>2.923585e+08</td>\n",
       "      <td>16.000000</td>\n",
       "      <td>4215.000000</td>\n",
       "      <td>34.042110</td>\n",
       "      <td>-118.292183</td>\n",
       "      <td>4215.00000</td>\n",
       "      <td>34.042061</td>\n",
       "      <td>-118.294662</td>\n",
       "      <td>30.000000</td>\n",
       "    </tr>\n",
       "    <tr>\n",
       "      <th>75%</th>\n",
       "      <td>2.999677e+08</td>\n",
       "      <td>29.000000</td>\n",
       "      <td>4516.000000</td>\n",
       "      <td>34.051941</td>\n",
       "      <td>-118.258537</td>\n",
       "      <td>4516.00000</td>\n",
       "      <td>34.051102</td>\n",
       "      <td>-118.258537</td>\n",
       "      <td>30.000000</td>\n",
       "    </tr>\n",
       "    <tr>\n",
       "      <th>max</th>\n",
       "      <td>3.103289e+08</td>\n",
       "      <td>1440.000000</td>\n",
       "      <td>4660.000000</td>\n",
       "      <td>34.177650</td>\n",
       "      <td>-118.225410</td>\n",
       "      <td>4660.00000</td>\n",
       "      <td>34.177650</td>\n",
       "      <td>-118.225410</td>\n",
       "      <td>365.000000</td>\n",
       "    </tr>\n",
       "  </tbody>\n",
       "</table>\n",
       "</div>"
      ],
      "text/plain": [
       "            trip_id       duration  start_station      start_lat  \\\n",
       "count  1.286920e+05  128692.000000  128692.000000  128692.000000   \n",
       "mean   2.922786e+08      32.772736    3997.353783      34.034002   \n",
       "std    8.939550e+06      83.489098     636.527030       0.038379   \n",
       "min    2.765902e+08       1.000000    3005.000000      33.928459   \n",
       "25%    2.845527e+08       7.000000    3068.000000      34.003510   \n",
       "50%    2.923585e+08      16.000000    4215.000000      34.042110   \n",
       "75%    2.999677e+08      29.000000    4516.000000      34.051941   \n",
       "max    3.103289e+08    1440.000000    4660.000000      34.177650   \n",
       "\n",
       "           start_lon   end_station        end_lat        end_lon  \\\n",
       "count  128692.000000  128692.00000  128692.000000  128692.000000   \n",
       "mean     -118.346399    4000.92604      34.033939    -118.346831   \n",
       "std         0.095739     633.54718       0.038029       0.096024   \n",
       "min      -118.491341    3005.00000      33.928459    -118.491341   \n",
       "25%      -118.451248    3068.00000      34.014309    -118.451248   \n",
       "50%      -118.292183    4215.00000      34.042061    -118.294662   \n",
       "75%      -118.258537    4516.00000      34.051102    -118.258537   \n",
       "max      -118.225410    4660.00000      34.177650    -118.225410   \n",
       "\n",
       "       plan_duration  \n",
       "count  128692.000000  \n",
       "mean       48.237637  \n",
       "std        96.022533  \n",
       "min         1.000000  \n",
       "25%         1.000000  \n",
       "50%        30.000000  \n",
       "75%        30.000000  \n",
       "max       365.000000  "
      ]
     },
     "execution_count": 15,
     "metadata": {},
     "output_type": "execute_result"
    }
   ],
   "source": [
    "##The describe function will allow me to see the spread of the data\n",
    "dfla.describe()"
   ]
  },
  {
   "cell_type": "code",
   "execution_count": 16,
   "id": "e0189e30",
   "metadata": {},
   "outputs": [],
   "source": [
    "##seems to be outliers because the max value for trip duration 1440 mins is way higher than the mean 32mins"
   ]
  },
  {
   "cell_type": "code",
   "execution_count": 17,
   "id": "6e544032",
   "metadata": {},
   "outputs": [
    {
     "data": {
      "text/plain": [
       "<Axes: xlabel='duration'>"
      ]
     },
     "execution_count": 17,
     "metadata": {},
     "output_type": "execute_result"
    },
    {
     "data": {
      "image/png": "[encoded data removed]",
      "text/plain": [
       "<Figure size 640x480 with 1 Axes>"
      ]
     },
     "metadata": {},
     "output_type": "display_data"
    }
   ],
   "source": [
    "sns.boxplot(x=dfla[\"duration\"])"
   ]
  },
  {
   "cell_type": "markdown",
   "id": "7b14341a",
   "metadata": {},
   "source": [
    "The box plot shows that there is multiple outliers for long duration trips. \n",
    "The result is positively skewed with most of the data aggregating at the lower trip duration times."
   ]
  },
  {
   "cell_type": "code",
   "execution_count": 19,
   "id": "91b327da",
   "metadata": {},
   "outputs": [
    {
     "name": "stdout",
     "output_type": "stream",
     "text": [
      "<class 'pandas.core.frame.DataFrame'>\n",
      "Index: 128692 entries, 0 to 130752\n",
      "Data columns (total 15 columns):\n",
      " #   Column               Non-Null Count   Dtype  \n",
      "---  ------               --------------   -----  \n",
      " 0   trip_id              128692 non-null  int64  \n",
      " 1   duration             128692 non-null  int64  \n",
      " 2   start_time           128692 non-null  object \n",
      " 3   end_time             128692 non-null  object \n",
      " 4   start_station        128692 non-null  int64  \n",
      " 5   start_lat            128692 non-null  float64\n",
      " 6   start_lon            128692 non-null  float64\n",
      " 7   end_station          128692 non-null  int64  \n",
      " 8   end_lat              128692 non-null  float64\n",
      " 9   end_lon              128692 non-null  float64\n",
      " 10  bike_id              128692 non-null  object \n",
      " 11  plan_duration        128692 non-null  int64  \n",
      " 12  trip_route_category  128692 non-null  object \n",
      " 13  passholder_type      128692 non-null  object \n",
      " 14  bike_type            128692 non-null  object \n",
      "dtypes: float64(4), int64(5), object(6)\n",
      "memory usage: 15.7+ MB\n"
     ]
    }
   ],
   "source": [
    "dfla.info()"
   ]
  },
  {
   "cell_type": "code",
   "execution_count": 20,
   "id": "5a580cb6",
   "metadata": {},
   "outputs": [],
   "source": [
    "dfla['start_time'] = pd.to_datetime(dfla['start_time'], format='%m/%d/%Y %H:%M')\n",
    "dfla['end_time'] = pd.to_datetime(dfla['end_time'], format='%m/%d/%Y %H:%M')\n"
   ]
  },
  {
   "cell_type": "code",
   "execution_count": 21,
   "id": "fd6d1847",
   "metadata": {},
   "outputs": [],
   "source": [
    "dfla['onlyDate'] = dfla['start_time'].dt.date"
   ]
  },
  {
   "cell_type": "code",
   "execution_count": null,
   "id": "fdb12a02",
   "metadata": {},
   "outputs": [],
   "source": [
    "##might take out\n",
    "dfla['num_rentals'] = dfla['trip_id'].nunique()"
   ]
  },
  {
   "cell_type": "code",
   "execution_count": 22,
   "id": "e5ced157",
   "metadata": {},
   "outputs": [],
   "source": [
    "dfla_daily = dfla.groupby('onlyDate')['num_rentals'].nunique()"
   ]
  },
  {
   "cell_type": "code",
   "execution_count": 23,
   "id": "8351e012",
   "metadata": {},
   "outputs": [],
   "source": [
    "dfla_daily=dfla_daily.reset_index()"
   ]
  },
  {
   "cell_type": "code",
   "execution_count": 24,
   "id": "009e760e",
   "metadata": {},
   "outputs": [
    {
     "data": {
      "text/plain": [
       "(92, 2)"
      ]
     },
     "execution_count": 24,
     "metadata": {},
     "output_type": "execute_result"
    }
   ],
   "source": [
    "dfla_daily.shape"
   ]
  },
  {
   "cell_type": "code",
   "execution_count": 25,
   "id": "2597f349",
   "metadata": {},
   "outputs": [
    {
     "data": {
      "text/html": [
       "<div>\n",
       "<style scoped>\n",
       "    .dataframe tbody tr th:only-of-type {\n",
       "        vertical-align: middle;\n",
       "    }\n",
       "\n",
       "    .dataframe tbody tr th {\n",
       "        vertical-align: top;\n",
       "    }\n",
       "\n",
       "    .dataframe thead th {\n",
       "        text-align: right;\n",
       "    }\n",
       "</style>\n",
       "<table border=\"1\" class=\"dataframe\">\n",
       "  <thead>\n",
       "    <tr style=\"text-align: right;\">\n",
       "      <th></th>\n",
       "      <th>trip_id</th>\n",
       "    </tr>\n",
       "  </thead>\n",
       "  <tbody>\n",
       "    <tr>\n",
       "      <th>count</th>\n",
       "      <td>92.000000</td>\n",
       "    </tr>\n",
       "    <tr>\n",
       "      <th>mean</th>\n",
       "      <td>1398.826087</td>\n",
       "    </tr>\n",
       "    <tr>\n",
       "      <th>std</th>\n",
       "      <td>201.140846</td>\n",
       "    </tr>\n",
       "    <tr>\n",
       "      <th>min</th>\n",
       "      <td>195.000000</td>\n",
       "    </tr>\n",
       "    <tr>\n",
       "      <th>25%</th>\n",
       "      <td>1300.250000</td>\n",
       "    </tr>\n",
       "    <tr>\n",
       "      <th>50%</th>\n",
       "      <td>1394.000000</td>\n",
       "    </tr>\n",
       "    <tr>\n",
       "      <th>75%</th>\n",
       "      <td>1513.000000</td>\n",
       "    </tr>\n",
       "    <tr>\n",
       "      <th>max</th>\n",
       "      <td>1839.000000</td>\n",
       "    </tr>\n",
       "  </tbody>\n",
       "</table>\n",
       "</div>"
      ],
      "text/plain": [
       "           trip_id\n",
       "count    92.000000\n",
       "mean   1398.826087\n",
       "std     201.140846\n",
       "min     195.000000\n",
       "25%    1300.250000\n",
       "50%    1394.000000\n",
       "75%    1513.000000\n",
       "max    1839.000000"
      ]
     },
     "execution_count": 25,
     "metadata": {},
     "output_type": "execute_result"
    }
   ],
   "source": [
    "dfla_daily.describe()"
   ]
  },
  {
   "cell_type": "code",
   "execution_count": 26,
   "id": "5f59d006",
   "metadata": {},
   "outputs": [],
   "source": [
    "##that minmum trip is very low compared to the mean"
   ]
  },
  {
   "cell_type": "code",
   "execution_count": 27,
   "id": "c54fd37f",
   "metadata": {},
   "outputs": [
    {
     "data": {
      "text/plain": [
       "<Axes: xlabel='trip_id'>"
      ]
     },
     "execution_count": 27,
     "metadata": {},
     "output_type": "execute_result"
    },
    {
     "data": {
      "image/png": "[encoded data removed]",
      "text/plain": [
       "<Figure size 640x480 with 1 Axes>"
      ]
     },
     "metadata": {},
     "output_type": "display_data"
    }
   ],
   "source": [
    "sns.boxplot(x=dfla_daily[\"num_rentals\"])"
   ]
  },
  {
   "cell_type": "code",
   "execution_count": 28,
   "id": "1f50fdf5",
   "metadata": {},
   "outputs": [],
   "source": [
    "##This visual is showing the 190 min outlier and the max outlier 1839, you can see the that 190 is far from the mean (blue box).\n",
    "#most of the data falls within the IQR  wih some variability that is represented by the whiskers and the outliers."
   ]
  },
  {
   "cell_type": "code",
   "execution_count": 67,
   "id": "bef59943",
   "metadata": {},
   "outputs": [],
   "source": [
    "from scipy.stats import shapiro"
   ]
  },
  {
   "cell_type": "code",
   "execution_count": 68,
   "id": "fbcd4f3f",
   "metadata": {},
   "outputs": [
    {
     "name": "stdout",
     "output_type": "stream",
     "text": [
      "Outlier Dates and Counts:\n",
      "      onlyDate  trip_id\n",
      "50  2023-08-20      195\n",
      "88  2023-09-27     1839\n"
     ]
    }
   ],
   "source": [
    "#analysis of the dates to see if there was anything signficant happening on the outlier days.\n",
    "# Calculate IQR\n",
    "Q1 = dfla_daily['num_rentals'].quantile(0.25)\n",
    "Q3 = dfla_daily['num_rentals'].quantile(0.75)\n",
    "IQR = Q3 - Q1\n",
    "\n",
    "# Define outlier bounds using standard 1.5 multiplier\n",
    "#adjusting the multiplier can affect the range of outlier selection\n",
    "lower_bound = Q1 - 1.5 * IQR\n",
    "upper_bound = Q3 + 1.5 * IQR\n",
    "\n",
    "# Filter outliers\n",
    "outliers = dfla_daily[(dfla_daily['num_rentals'] < lower_bound) | (dfla_daily['num_rentals'] > upper_bound)]\n",
    "print(\"Outlier Dates and Counts:\")\n",
    "print(outliers)\n"
   ]
  },
  {
   "cell_type": "code",
   "execution_count": null,
   "id": "8d487275",
   "metadata": {},
   "outputs": [],
   "source": [
    "## 2023-08-20  is LA there was a major hurrican Hilary was on this day\n",
    "#2023-09-27  Seasonal ice skating rings were open to the public \n",
    "\n",
    "#I have determined that the events above aren't typical to a day in LA"
   ]
  },
  {
   "cell_type": "code",
   "execution_count": null,
   "id": "b1196630",
   "metadata": {},
   "outputs": [],
   "source": [
    "#The Shapiro-Wilk test on the 'num_rentals' column\n",
    "stat, p_value = shapiro(dfla_daily['num_rentals'])\n",
    "\n",
    "# Display the test statistic and p-value\n",
    "print(\"Shapiro-Wilk Test Statistic:\", stat)\n",
    "print(\"p-value:\", p_value)\n",
    "\n",
    "# Interpret the result\n",
    "alpha = 0.05  # significance level\n",
    "if p_value > alpha:\n",
    "    print(\"The data appears to be normally distributed (fail to reject H0).\")\n",
    "else:\n",
    "    print(\"The data does not appear to be normally distributed (reject H0).\")"
   ]
  },
  {
   "cell_type": "code",
   "execution_count": null,
   "id": "2bd710ec",
   "metadata": {},
   "outputs": [],
   "source": [
    "#remove outliers\n",
    "#This data will represent a typical rental day in LA\n",
    "dfla_daily_no_outliers = dfla_daily[\n",
    "    (dfla_daily['num_rentals'] >= lower_bound) & (dfla_daily['num_rentals'] <= upper_bound)\n",
    "]\n"
   ]
  },
  {
   "cell_type": "code",
   "execution_count": null,
   "id": "1a5086ff",
   "metadata": {},
   "outputs": [],
   "source": [
    "#The Shapiro-Wilk test on the 'num_rentals' column\n",
    "stat, p_value = shapiro(dfla_daily_no_outliers['num_rentals'])\n",
    "\n",
    "# Display the test statistic and p-value\n",
    "print(\"Shapiro-Wilk Test Statistic:\", stat)\n",
    "print(\"p-value:\", p_value)\n",
    "\n",
    "# Interpret the result\n",
    "alpha = 0.05  # significance level\n",
    "if p_value > alpha:\n",
    "    print(\"The data appears to be normally distributed (fail to reject H0).\")\n",
    "else:\n",
    "    print(\"The data does not appear to be normally distributed (reject H0).\")"
   ]
  },
  {
   "cell_type": "code",
   "execution_count": null,
   "id": "e3fdf51b",
   "metadata": {},
   "outputs": [],
   "source": []
  },
  {
   "cell_type": "code",
   "execution_count": null,
   "id": "efee3682",
   "metadata": {},
   "outputs": [],
   "source": []
  },
  {
   "cell_type": "code",
   "execution_count": null,
   "id": "f5da8ee5",
   "metadata": {},
   "outputs": [],
   "source": []
  },
  {
   "cell_type": "markdown",
   "id": "b355f299",
   "metadata": {},
   "source": [
    "# Section 1.2 Data cleaning and exploration of Dublin city data"
   ]
  },
  {
   "cell_type": "code",
   "execution_count": 33,
   "id": "be07ec97",
   "metadata": {},
   "outputs": [],
   "source": [
    "###12 months of data\n",
    "df1 = pd.read_csv(\"dublinbike-historical-data-2023-01.csv\")\n",
    "df2 = pd.read_csv(\"dublinbike-historical-data-2023-02.csv\")\n",
    "df3 = pd.read_csv(\"dublinbike-historical-data-2023-03.csv\")\n",
    "df4 = pd.read_csv(\"dublinbike-historical-data-2023-04.csv\")\n",
    "df5 = pd.read_csv(\"dublinbike-historical-data-2023-05.csv\")\n",
    "\n",
    "df6 = pd.read_csv(\"dublinbike-historical-data-2023-06.csv\")\n",
    "df7 = pd.read_csv(\"dublinbike-historical-data-2023-07.csv\")\n",
    "df8 = pd.read_csv(\"dublinbike-historical-data-2023-08.csv\")\n",
    "df9 = pd.read_csv(\"dublinbike-historical-data-2023-09.csv\")\n",
    "df10 = pd.read_csv(\"dublinbike-historical-data-2023-10.csv\")\n",
    "df11 = pd.read_csv(\"dublinbike-historical-data-2023-11.csv\")\n",
    "df12 = pd.read_csv(\"dublinbike-historical-data-2023-12.csv\")"
   ]
  },
  {
   "cell_type": "code",
   "execution_count": 34,
   "id": "a355820d",
   "metadata": {},
   "outputs": [],
   "source": [
    "###use concat to stack the data into one dataframe\n",
    "df = pd.concat([df1,df2,df3,df4,df5,df6,df7,df8,df9,df10,df11,df12],ignore_index=True)   "
   ]
  },
  {
   "cell_type": "code",
   "execution_count": 35,
   "id": "5760e95c",
   "metadata": {},
   "outputs": [
    {
     "name": "stdout",
     "output_type": "stream",
     "text": [
      "<class 'pandas.core.frame.DataFrame'>\n",
      "RangeIndex: 1994400 entries, 0 to 1994399\n",
      "Data columns (total 11 columns):\n",
      " #   Column                 Dtype  \n",
      "---  ------                 -----  \n",
      " 0   STATION ID             int64  \n",
      " 1   TIME                   object \n",
      " 2   LAST UPDATED           object \n",
      " 3   NAME                   object \n",
      " 4   BIKE_STANDS            int64  \n",
      " 5   AVAILABLE_BIKE_STANDS  int64  \n",
      " 6   AVAILABLE_BIKES        int64  \n",
      " 7   STATUS                 object \n",
      " 8   ADDRESS                object \n",
      " 9   LATITUDE               float64\n",
      " 10  LONGITUDE              float64\n",
      "dtypes: float64(2), int64(4), object(5)\n",
      "memory usage: 167.4+ MB\n"
     ]
    }
   ],
   "source": [
    "##to check if each variable is in the right format\n",
    "df.info() "
   ]
  },
  {
   "cell_type": "code",
   "execution_count": 49,
   "id": "a1420cc0",
   "metadata": {},
   "outputs": [],
   "source": [
    "##rename to remove the space because spaces can cause issues when coding \n",
    "df = df.rename(columns={\"STATION ID\": \"station_id\"})\n",
    "df = df.rename(columns={\"LAST UPDATED\":\"last_reported\"})\n",
    "##changed the name because it's more appropriate\n",
    "df = df.rename(columns={\"AVAILABLE_BIKES\":\"num_bikes_available\"})\n"
   ]
  },
  {
   "cell_type": "code",
   "execution_count": null,
   "id": "6dcb8a69",
   "metadata": {},
   "outputs": [],
   "source": [
    "df.describe()"
   ]
  },
  {
   "cell_type": "code",
   "execution_count": 46,
   "id": "32089958",
   "metadata": {},
   "outputs": [
    {
     "data": {
      "text/html": [
       "<div>\n",
       "<style scoped>\n",
       "    .dataframe tbody tr th:only-of-type {\n",
       "        vertical-align: middle;\n",
       "    }\n",
       "\n",
       "    .dataframe tbody tr th {\n",
       "        vertical-align: top;\n",
       "    }\n",
       "\n",
       "    .dataframe thead th {\n",
       "        text-align: right;\n",
       "    }\n",
       "</style>\n",
       "<table border=\"1\" class=\"dataframe\">\n",
       "  <thead>\n",
       "    <tr style=\"text-align: right;\">\n",
       "      <th></th>\n",
       "      <th>station_id</th>\n",
       "      <th>TIME</th>\n",
       "      <th>last_reported</th>\n",
       "      <th>NAME</th>\n",
       "      <th>BIKE_STANDS</th>\n",
       "      <th>AVAILABLE_BIKE_STANDS</th>\n",
       "      <th>AVAILABLE_BIKES</th>\n",
       "      <th>ADDRESS</th>\n",
       "      <th>LATITUDE</th>\n",
       "      <th>LONGITUDE</th>\n",
       "    </tr>\n",
       "  </thead>\n",
       "  <tbody>\n",
       "    <tr>\n",
       "      <th>0</th>\n",
       "      <td>1</td>\n",
       "      <td>2023-01-01 00:00:03</td>\n",
       "      <td>2022-12-31 23:59:39</td>\n",
       "      <td>CLARENDON ROW</td>\n",
       "      <td>31</td>\n",
       "      <td>31</td>\n",
       "      <td>0</td>\n",
       "      <td>Clarendon Row</td>\n",
       "      <td>53.3409</td>\n",
       "      <td>-6.26250</td>\n",
       "    </tr>\n",
       "    <tr>\n",
       "      <th>1</th>\n",
       "      <td>2</td>\n",
       "      <td>2023-01-01 00:00:03</td>\n",
       "      <td>2022-12-31 23:57:48</td>\n",
       "      <td>BLESSINGTON STREET</td>\n",
       "      <td>20</td>\n",
       "      <td>18</td>\n",
       "      <td>2</td>\n",
       "      <td>Blessington Street</td>\n",
       "      <td>53.3568</td>\n",
       "      <td>-6.26814</td>\n",
       "    </tr>\n",
       "    <tr>\n",
       "      <th>2</th>\n",
       "      <td>3</td>\n",
       "      <td>2023-01-01 00:00:03</td>\n",
       "      <td>2022-12-31 23:57:10</td>\n",
       "      <td>BOLTON STREET</td>\n",
       "      <td>20</td>\n",
       "      <td>9</td>\n",
       "      <td>11</td>\n",
       "      <td>Bolton Street</td>\n",
       "      <td>53.3512</td>\n",
       "      <td>-6.26986</td>\n",
       "    </tr>\n",
       "    <tr>\n",
       "      <th>3</th>\n",
       "      <td>4</td>\n",
       "      <td>2023-01-01 00:00:03</td>\n",
       "      <td>2022-12-31 23:51:39</td>\n",
       "      <td>GREEK STREET</td>\n",
       "      <td>20</td>\n",
       "      <td>8</td>\n",
       "      <td>12</td>\n",
       "      <td>Greek Street</td>\n",
       "      <td>53.3469</td>\n",
       "      <td>-6.27298</td>\n",
       "    </tr>\n",
       "    <tr>\n",
       "      <th>4</th>\n",
       "      <td>5</td>\n",
       "      <td>2023-01-01 00:00:03</td>\n",
       "      <td>2022-12-31 23:58:28</td>\n",
       "      <td>CHARLEMONT PLACE</td>\n",
       "      <td>40</td>\n",
       "      <td>16</td>\n",
       "      <td>24</td>\n",
       "      <td>Charlemont Street</td>\n",
       "      <td>53.3307</td>\n",
       "      <td>-6.26018</td>\n",
       "    </tr>\n",
       "  </tbody>\n",
       "</table>\n",
       "</div>"
      ],
      "text/plain": [
       "   station_id                 TIME        last_reported                NAME  \\\n",
       "0           1  2023-01-01 00:00:03  2022-12-31 23:59:39       CLARENDON ROW   \n",
       "1           2  2023-01-01 00:00:03  2022-12-31 23:57:48  BLESSINGTON STREET   \n",
       "2           3  2023-01-01 00:00:03  2022-12-31 23:57:10       BOLTON STREET   \n",
       "3           4  2023-01-01 00:00:03  2022-12-31 23:51:39        GREEK STREET   \n",
       "4           5  2023-01-01 00:00:03  2022-12-31 23:58:28    CHARLEMONT PLACE   \n",
       "\n",
       "   BIKE_STANDS  AVAILABLE_BIKE_STANDS  AVAILABLE_BIKES             ADDRESS  \\\n",
       "0           31                     31                0       Clarendon Row   \n",
       "1           20                     18                2  Blessington Street   \n",
       "2           20                      9               11       Bolton Street   \n",
       "3           20                      8               12        Greek Street   \n",
       "4           40                     16               24   Charlemont Street   \n",
       "\n",
       "   LATITUDE  LONGITUDE  \n",
       "0   53.3409   -6.26250  \n",
       "1   53.3568   -6.26814  \n",
       "2   53.3512   -6.26986  \n",
       "3   53.3469   -6.27298  \n",
       "4   53.3307   -6.26018  "
      ]
     },
     "execution_count": 46,
     "metadata": {},
     "output_type": "execute_result"
    }
   ],
   "source": [
    " ###used to see what the dataset looks like\n",
    "df.head()"
   ]
  },
  {
   "cell_type": "code",
   "execution_count": null,
   "id": "6e78bb47",
   "metadata": {},
   "outputs": [],
   "source": [
    "##check the range of data\n",
    "df.tail() "
   ]
  },
  {
   "cell_type": "code",
   "execution_count": null,
   "id": "a541d90b",
   "metadata": {},
   "outputs": [],
   "source": [
    "df.dtypes ##Used this function to check if all the columns in the dataset are in the right format "
   ]
  },
  {
   "cell_type": "code",
   "execution_count": null,
   "id": "c0ff7952",
   "metadata": {},
   "outputs": [],
   "source": [
    "##checking unique values in the dataset will help me decide what columns don't provide any useful information \n",
    "df.nunique() "
   ]
  },
  {
   "cell_type": "code",
   "execution_count": 37,
   "id": "f6013ab6",
   "metadata": {
    "scrolled": true
   },
   "outputs": [],
   "source": [
    "####used to remove columns not required\n",
    "\n",
    "df = df.drop([\"STATUS\"], axis=1)\n",
    "#smaller datasets are easier to process and work with. "
   ]
  },
  {
   "cell_type": "code",
   "execution_count": null,
   "id": "0f2de1af",
   "metadata": {},
   "outputs": [],
   "source": [
    "##To see how big the dataset is \n",
    "df.shape "
   ]
  },
  {
   "cell_type": "code",
   "execution_count": 38,
   "id": "f2eab3aa",
   "metadata": {},
   "outputs": [
    {
     "name": "stdout",
     "output_type": "stream",
     "text": [
      "number of duplicate rows:  (0, 10)\n"
     ]
    }
   ],
   "source": [
    "duplicate_rows_df = df[df.duplicated()]\n",
    "print(\"number of duplicate rows: \", duplicate_rows_df.shape)\n",
    "###number of duplicate rows is 0"
   ]
  },
  {
   "cell_type": "code",
   "execution_count": null,
   "id": "37b5af03",
   "metadata": {},
   "outputs": [],
   "source": [
    "df.count() \n",
    "\n",
    "##no empty rows"
   ]
  },
  {
   "cell_type": "code",
   "execution_count": null,
   "id": "58e74872",
   "metadata": {},
   "outputs": [],
   "source": [
    "print(df.isnull().sum()) ##confrimed no null"
   ]
  },
  {
   "cell_type": "code",
   "execution_count": null,
   "id": "09c338fa",
   "metadata": {},
   "outputs": [],
   "source": [
    "df.describe()  ##spread of the numeric values   ##min and max very important when trying to scale the data"
   ]
  },
  {
   "cell_type": "code",
   "execution_count": 47,
   "id": "9ca977c2",
   "metadata": {},
   "outputs": [],
   "source": [
    "df['last_reported'] = pd.to_datetime(df['last_reported'], format='%Y-%m-%d %H:%M:%S') ##last reported is has to be in the datetime format in order to do datetime manipulations"
   ]
  },
  {
   "cell_type": "code",
   "execution_count": 50,
   "id": "107aa3ae",
   "metadata": {},
   "outputs": [],
   "source": [
    "df.sort_values(by=['station_id', 'last_reported'], inplace=True)\n",
    "df['num_bikes_change'] = df.groupby('station_id')['num_bikes_available'].diff().fillna(0) ##groups the dataset by station id and the number of available bikes and gets the difference from one row to the next\n",
    "df['num_rentals'] = df['num_bikes_change'].clip(upper=0).abs().fillna(0) ##the change in bikes are placed ina column called the number of bike rentals "
   ]
  },
  {
   "cell_type": "code",
   "execution_count": null,
   "id": "bdf79c0a",
   "metadata": {},
   "outputs": [],
   "source": [
    "##checking what the dataset looks like after the addition of the number of rentals and number of bike change columns\n",
    "df.head() "
   ]
  },
  {
   "cell_type": "code",
   "execution_count": null,
   "id": "ea5cacc7",
   "metadata": {},
   "outputs": [],
   "source": [
    "df.tail()"
   ]
  },
  {
   "cell_type": "code",
   "execution_count": null,
   "id": "20d025c6",
   "metadata": {},
   "outputs": [],
   "source": [
    "df.shape ##used to check the size of the dataset"
   ]
  },
  {
   "cell_type": "code",
   "execution_count": null,
   "id": "9898a577",
   "metadata": {},
   "outputs": [],
   "source": [
    "df.info()"
   ]
  },
  {
   "cell_type": "code",
   "execution_count": 51,
   "id": "d054b969",
   "metadata": {
    "scrolled": true
   },
   "outputs": [],
   "source": [
    "##extracting addtional columns to gain more insight in cycling in dublin \n",
    "df['date'] = df['last_reported'].dt.date  \n",
    "df['year'] = df['last_reported'].dt.year\n",
    "df['day_of_week'] =df['last_reported'].dt.dayofweek\n",
    "df['day_of_week_name'] = df['last_reported'].dt.day_name()\n",
    "df['month'] = df['last_reported'].dt.month\n",
    "df['month_name'] = df['last_reported'].dt.month_name()\n",
    "df['day_of_month'] = df['last_reported'].dt.day\n",
    "df['hour_of_day'] = df['last_reported'].dt.hour"
   ]
  },
  {
   "cell_type": "code",
   "execution_count": 52,
   "id": "0523f71b",
   "metadata": {},
   "outputs": [
    {
     "data": {
      "text/html": [
       "<div>\n",
       "<style scoped>\n",
       "    .dataframe tbody tr th:only-of-type {\n",
       "        vertical-align: middle;\n",
       "    }\n",
       "\n",
       "    .dataframe tbody tr th {\n",
       "        vertical-align: top;\n",
       "    }\n",
       "\n",
       "    .dataframe thead th {\n",
       "        text-align: right;\n",
       "    }\n",
       "</style>\n",
       "<table border=\"1\" class=\"dataframe\">\n",
       "  <thead>\n",
       "    <tr style=\"text-align: right;\">\n",
       "      <th></th>\n",
       "      <th>station_id</th>\n",
       "      <th>TIME</th>\n",
       "      <th>last_reported</th>\n",
       "      <th>NAME</th>\n",
       "      <th>BIKE_STANDS</th>\n",
       "      <th>AVAILABLE_BIKE_STANDS</th>\n",
       "      <th>num_bikes_available</th>\n",
       "      <th>ADDRESS</th>\n",
       "      <th>LATITUDE</th>\n",
       "      <th>LONGITUDE</th>\n",
       "      <th>...</th>\n",
       "      <th>num_rentals</th>\n",
       "      <th>date</th>\n",
       "      <th>year</th>\n",
       "      <th>day_of_week</th>\n",
       "      <th>day_of_week_name</th>\n",
       "      <th>month</th>\n",
       "      <th>month_name</th>\n",
       "      <th>day_of_month</th>\n",
       "      <th>hour_of_day</th>\n",
       "      <th>is_weekend</th>\n",
       "    </tr>\n",
       "  </thead>\n",
       "  <tbody>\n",
       "    <tr>\n",
       "      <th>0</th>\n",
       "      <td>1</td>\n",
       "      <td>2023-01-01 00:00:03</td>\n",
       "      <td>2022-12-31 23:59:39</td>\n",
       "      <td>CLARENDON ROW</td>\n",
       "      <td>31</td>\n",
       "      <td>31</td>\n",
       "      <td>0</td>\n",
       "      <td>Clarendon Row</td>\n",
       "      <td>53.3409</td>\n",
       "      <td>-6.2625</td>\n",
       "      <td>...</td>\n",
       "      <td>0.0</td>\n",
       "      <td>2022-12-31</td>\n",
       "      <td>2022</td>\n",
       "      <td>5</td>\n",
       "      <td>Saturday</td>\n",
       "      <td>12</td>\n",
       "      <td>December</td>\n",
       "      <td>31</td>\n",
       "      <td>23</td>\n",
       "      <td>True</td>\n",
       "    </tr>\n",
       "    <tr>\n",
       "      <th>113</th>\n",
       "      <td>1</td>\n",
       "      <td>2023-01-01 00:30:02</td>\n",
       "      <td>2023-01-01 00:21:23</td>\n",
       "      <td>CLARENDON ROW</td>\n",
       "      <td>31</td>\n",
       "      <td>31</td>\n",
       "      <td>0</td>\n",
       "      <td>Clarendon Row</td>\n",
       "      <td>53.3409</td>\n",
       "      <td>-6.2625</td>\n",
       "      <td>...</td>\n",
       "      <td>0.0</td>\n",
       "      <td>2023-01-01</td>\n",
       "      <td>2023</td>\n",
       "      <td>6</td>\n",
       "      <td>Sunday</td>\n",
       "      <td>1</td>\n",
       "      <td>January</td>\n",
       "      <td>1</td>\n",
       "      <td>0</td>\n",
       "      <td>True</td>\n",
       "    </tr>\n",
       "    <tr>\n",
       "      <th>226</th>\n",
       "      <td>1</td>\n",
       "      <td>2023-01-01 01:00:03</td>\n",
       "      <td>2023-01-01 00:50:23</td>\n",
       "      <td>CLARENDON ROW</td>\n",
       "      <td>31</td>\n",
       "      <td>31</td>\n",
       "      <td>0</td>\n",
       "      <td>Clarendon Row</td>\n",
       "      <td>53.3409</td>\n",
       "      <td>-6.2625</td>\n",
       "      <td>...</td>\n",
       "      <td>0.0</td>\n",
       "      <td>2023-01-01</td>\n",
       "      <td>2023</td>\n",
       "      <td>6</td>\n",
       "      <td>Sunday</td>\n",
       "      <td>1</td>\n",
       "      <td>January</td>\n",
       "      <td>1</td>\n",
       "      <td>0</td>\n",
       "      <td>True</td>\n",
       "    </tr>\n",
       "    <tr>\n",
       "      <th>339</th>\n",
       "      <td>1</td>\n",
       "      <td>2023-01-01 01:30:03</td>\n",
       "      <td>2023-01-01 01:20:40</td>\n",
       "      <td>CLARENDON ROW</td>\n",
       "      <td>31</td>\n",
       "      <td>31</td>\n",
       "      <td>0</td>\n",
       "      <td>Clarendon Row</td>\n",
       "      <td>53.3409</td>\n",
       "      <td>-6.2625</td>\n",
       "      <td>...</td>\n",
       "      <td>0.0</td>\n",
       "      <td>2023-01-01</td>\n",
       "      <td>2023</td>\n",
       "      <td>6</td>\n",
       "      <td>Sunday</td>\n",
       "      <td>1</td>\n",
       "      <td>January</td>\n",
       "      <td>1</td>\n",
       "      <td>1</td>\n",
       "      <td>True</td>\n",
       "    </tr>\n",
       "    <tr>\n",
       "      <th>452</th>\n",
       "      <td>1</td>\n",
       "      <td>2023-01-01 02:00:03</td>\n",
       "      <td>2023-01-01 01:50:55</td>\n",
       "      <td>CLARENDON ROW</td>\n",
       "      <td>31</td>\n",
       "      <td>31</td>\n",
       "      <td>0</td>\n",
       "      <td>Clarendon Row</td>\n",
       "      <td>53.3409</td>\n",
       "      <td>-6.2625</td>\n",
       "      <td>...</td>\n",
       "      <td>0.0</td>\n",
       "      <td>2023-01-01</td>\n",
       "      <td>2023</td>\n",
       "      <td>6</td>\n",
       "      <td>Sunday</td>\n",
       "      <td>1</td>\n",
       "      <td>January</td>\n",
       "      <td>1</td>\n",
       "      <td>1</td>\n",
       "      <td>True</td>\n",
       "    </tr>\n",
       "  </tbody>\n",
       "</table>\n",
       "<p>5 rows × 21 columns</p>\n",
       "</div>"
      ],
      "text/plain": [
       "     station_id                 TIME       last_reported           NAME  \\\n",
       "0             1  2023-01-01 00:00:03 2022-12-31 23:59:39  CLARENDON ROW   \n",
       "113           1  2023-01-01 00:30:02 2023-01-01 00:21:23  CLARENDON ROW   \n",
       "226           1  2023-01-01 01:00:03 2023-01-01 00:50:23  CLARENDON ROW   \n",
       "339           1  2023-01-01 01:30:03 2023-01-01 01:20:40  CLARENDON ROW   \n",
       "452           1  2023-01-01 02:00:03 2023-01-01 01:50:55  CLARENDON ROW   \n",
       "\n",
       "     BIKE_STANDS  AVAILABLE_BIKE_STANDS  num_bikes_available        ADDRESS  \\\n",
       "0             31                     31                    0  Clarendon Row   \n",
       "113           31                     31                    0  Clarendon Row   \n",
       "226           31                     31                    0  Clarendon Row   \n",
       "339           31                     31                    0  Clarendon Row   \n",
       "452           31                     31                    0  Clarendon Row   \n",
       "\n",
       "     LATITUDE  LONGITUDE  ...  num_rentals        date  year  day_of_week  \\\n",
       "0     53.3409    -6.2625  ...          0.0  2022-12-31  2022            5   \n",
       "113   53.3409    -6.2625  ...          0.0  2023-01-01  2023            6   \n",
       "226   53.3409    -6.2625  ...          0.0  2023-01-01  2023            6   \n",
       "339   53.3409    -6.2625  ...          0.0  2023-01-01  2023            6   \n",
       "452   53.3409    -6.2625  ...          0.0  2023-01-01  2023            6   \n",
       "\n",
       "     day_of_week_name month  month_name day_of_month  hour_of_day  is_weekend  \n",
       "0            Saturday    12    December           31           23        True  \n",
       "113            Sunday     1     January            1            0        True  \n",
       "226            Sunday     1     January            1            0        True  \n",
       "339            Sunday     1     January            1            1        True  \n",
       "452            Sunday     1     January            1            1        True  \n",
       "\n",
       "[5 rows x 21 columns]"
      ]
     },
     "execution_count": 52,
     "metadata": {},
     "output_type": "execute_result"
    }
   ],
   "source": [
    "###Adding weekday and weekend columns \n",
    "df['is_weekend'] = df['last_reported'].dt.day_name().isin(['Saturday', 'Sunday'])\n",
    "df.head()"
   ]
  },
  {
   "cell_type": "code",
   "execution_count": null,
   "id": "a817d91c",
   "metadata": {},
   "outputs": [],
   "source": [
    "## the tilde will invert the logic to make weekday\n",
    "df['is_weekday'] = ~df['is_weekend']  "
   ]
  },
  {
   "cell_type": "code",
   "execution_count": null,
   "id": "2f0144e9",
   "metadata": {},
   "outputs": [],
   "source": [
    "df.head()"
   ]
  },
  {
   "cell_type": "code",
   "execution_count": null,
   "id": "713bed8e",
   "metadata": {},
   "outputs": [],
   "source": [
    "##check the format of the new date columns\n",
    "df.info() "
   ]
  },
  {
   "cell_type": "code",
   "execution_count": 53,
   "id": "c995111d",
   "metadata": {},
   "outputs": [],
   "source": [
    "##making a dataset with the focus on the number of rentals to join with the weather dataset\n",
    "df_daily = df.groupby(['date']).agg({'num_rentals': np.sum}) "
   ]
  },
  {
   "cell_type": "code",
   "execution_count": 54,
   "id": "ecdcb5b8",
   "metadata": {},
   "outputs": [
    {
     "data": {
      "text/html": [
       "<div>\n",
       "<style scoped>\n",
       "    .dataframe tbody tr th:only-of-type {\n",
       "        vertical-align: middle;\n",
       "    }\n",
       "\n",
       "    .dataframe tbody tr th {\n",
       "        vertical-align: top;\n",
       "    }\n",
       "\n",
       "    .dataframe thead th {\n",
       "        text-align: right;\n",
       "    }\n",
       "</style>\n",
       "<table border=\"1\" class=\"dataframe\">\n",
       "  <thead>\n",
       "    <tr style=\"text-align: right;\">\n",
       "      <th></th>\n",
       "      <th>num_rentals</th>\n",
       "    </tr>\n",
       "    <tr>\n",
       "      <th>date</th>\n",
       "      <th></th>\n",
       "    </tr>\n",
       "  </thead>\n",
       "  <tbody>\n",
       "    <tr>\n",
       "      <th>2022-12-31</th>\n",
       "      <td>0.0</td>\n",
       "    </tr>\n",
       "    <tr>\n",
       "      <th>2023-01-01</th>\n",
       "      <td>1122.0</td>\n",
       "    </tr>\n",
       "    <tr>\n",
       "      <th>2023-01-02</th>\n",
       "      <td>1413.0</td>\n",
       "    </tr>\n",
       "    <tr>\n",
       "      <th>2023-01-03</th>\n",
       "      <td>2555.0</td>\n",
       "    </tr>\n",
       "    <tr>\n",
       "      <th>2023-01-04</th>\n",
       "      <td>2757.0</td>\n",
       "    </tr>\n",
       "  </tbody>\n",
       "</table>\n",
       "</div>"
      ],
      "text/plain": [
       "            num_rentals\n",
       "date                   \n",
       "2022-12-31          0.0\n",
       "2023-01-01       1122.0\n",
       "2023-01-02       1413.0\n",
       "2023-01-03       2555.0\n",
       "2023-01-04       2757.0"
      ]
     },
     "execution_count": 54,
     "metadata": {},
     "output_type": "execute_result"
    }
   ],
   "source": [
    "df_daily.head()"
   ]
  },
  {
   "cell_type": "code",
   "execution_count": null,
   "id": "6adb578f",
   "metadata": {},
   "outputs": [],
   "source": [
    "##shape makes sense its the last day in 2022 to the last day in 2023 \n",
    "df_daily.shape "
   ]
  },
  {
   "cell_type": "code",
   "execution_count": null,
   "id": "0a068371",
   "metadata": {},
   "outputs": [],
   "source": [
    "df_daily.info"
   ]
  },
  {
   "cell_type": "code",
   "execution_count": 55,
   "id": "279fef84",
   "metadata": {},
   "outputs": [],
   "source": [
    "##initialise the new  reset index the reset of the index will extract the date column from the index\n",
    "df_dailyt = df_daily.reset_index() "
   ]
  },
  {
   "cell_type": "code",
   "execution_count": null,
   "id": "5e6c0f7e",
   "metadata": {},
   "outputs": [],
   "source": [
    "##2 columns now , it was perviously 1  --> I need to do this so I can join with the weather dataset\n",
    "df_dailyt.shape "
   ]
  },
  {
   "cell_type": "code",
   "execution_count": null,
   "id": "01fe4482",
   "metadata": {},
   "outputs": [],
   "source": [
    "df_dailyt.info()"
   ]
  },
  {
   "cell_type": "code",
   "execution_count": null,
   "id": "11ded30a",
   "metadata": {},
   "outputs": [],
   "source": [
    "df_dailyt.head()"
   ]
  },
  {
   "cell_type": "code",
   "execution_count": null,
   "id": "06a34d51",
   "metadata": {},
   "outputs": [],
   "source": [
    " ###Had to bring this to a date format to the same date format as the weather data so I join both datasets on the date column\n",
    "df_dailyt['date'] = pd.to_datetime(df_dailyt['date'], format='%Y-%m-%d') "
   ]
  },
  {
   "cell_type": "code",
   "execution_count": 56,
   "id": "e299c2b4",
   "metadata": {},
   "outputs": [],
   "source": [
    "##extracting addtional columns to gain more insight in cycling in dublin \n",
    "  \n",
    "df_dailyt['year'] = df['last_reported'].dt.year\n",
    "df_dailyt['day_of_week'] =df['last_reported'].dt.dayofweek\n",
    "df_dailyt['day_of_week_name'] = df['last_reported'].dt.day_name()\n",
    "df_dailyt['month'] = df['last_reported'].dt.month\n",
    "df_dailyt['month_name'] = df['last_reported'].dt.month_name()\n",
    "df_dailyt['day_of_month'] = df['last_reported'].dt.day\n",
    "df_dailyt['hour_of_day'] = df['last_reported'].dt.hour  \n"
   ]
  },
  {
   "cell_type": "code",
   "execution_count": null,
   "id": "ef5da5f4",
   "metadata": {},
   "outputs": [],
   "source": [
    "##summary data for the continous columns\n",
    "df_dailyt.describe()  "
   ]
  },
  {
   "cell_type": "code",
   "execution_count": null,
   "id": "0ac2e4dd",
   "metadata": {},
   "outputs": [],
   "source": [
    "##its clear that there are outliers present in the dataset with the min being 0 \n",
    "#I will investigate this further "
   ]
  },
  {
   "cell_type": "code",
   "execution_count": null,
   "id": "6b8c705e",
   "metadata": {},
   "outputs": [],
   "source": [
    "sns.boxplot(x=df_dailyt[\"num_rentals\"])"
   ]
  },
  {
   "cell_type": "code",
   "execution_count": 63,
   "id": "c0d1fad8",
   "metadata": {},
   "outputs": [],
   "source": [
    "##remove the 0 rentals\n",
    "df_dailyt = df_dailyt[df_dailyt['num_rentals'] != 0]"
   ]
  },
  {
   "cell_type": "code",
   "execution_count": 64,
   "id": "7ae06fe4",
   "metadata": {},
   "outputs": [
    {
     "data": {
      "text/html": [
       "<div>\n",
       "<style scoped>\n",
       "    .dataframe tbody tr th:only-of-type {\n",
       "        vertical-align: middle;\n",
       "    }\n",
       "\n",
       "    .dataframe tbody tr th {\n",
       "        vertical-align: top;\n",
       "    }\n",
       "\n",
       "    .dataframe thead th {\n",
       "        text-align: right;\n",
       "    }\n",
       "</style>\n",
       "<table border=\"1\" class=\"dataframe\">\n",
       "  <thead>\n",
       "    <tr style=\"text-align: right;\">\n",
       "      <th></th>\n",
       "      <th>date</th>\n",
       "      <th>num_rentals</th>\n",
       "      <th>year</th>\n",
       "      <th>day_of_week</th>\n",
       "      <th>day_of_week_name</th>\n",
       "      <th>month</th>\n",
       "      <th>month_name</th>\n",
       "      <th>day_of_month</th>\n",
       "      <th>hour_of_day</th>\n",
       "    </tr>\n",
       "  </thead>\n",
       "  <tbody>\n",
       "    <tr>\n",
       "      <th>1</th>\n",
       "      <td>2023-01-01</td>\n",
       "      <td>1122.0</td>\n",
       "      <td>2022</td>\n",
       "      <td>5</td>\n",
       "      <td>Saturday</td>\n",
       "      <td>12</td>\n",
       "      <td>December</td>\n",
       "      <td>31</td>\n",
       "      <td>23</td>\n",
       "    </tr>\n",
       "    <tr>\n",
       "      <th>2</th>\n",
       "      <td>2023-01-02</td>\n",
       "      <td>1413.0</td>\n",
       "      <td>2022</td>\n",
       "      <td>5</td>\n",
       "      <td>Saturday</td>\n",
       "      <td>12</td>\n",
       "      <td>December</td>\n",
       "      <td>31</td>\n",
       "      <td>23</td>\n",
       "    </tr>\n",
       "    <tr>\n",
       "      <th>3</th>\n",
       "      <td>2023-01-03</td>\n",
       "      <td>2555.0</td>\n",
       "      <td>2022</td>\n",
       "      <td>5</td>\n",
       "      <td>Saturday</td>\n",
       "      <td>12</td>\n",
       "      <td>December</td>\n",
       "      <td>31</td>\n",
       "      <td>23</td>\n",
       "    </tr>\n",
       "    <tr>\n",
       "      <th>4</th>\n",
       "      <td>2023-01-04</td>\n",
       "      <td>2757.0</td>\n",
       "      <td>2022</td>\n",
       "      <td>5</td>\n",
       "      <td>Saturday</td>\n",
       "      <td>12</td>\n",
       "      <td>December</td>\n",
       "      <td>31</td>\n",
       "      <td>23</td>\n",
       "    </tr>\n",
       "    <tr>\n",
       "      <th>5</th>\n",
       "      <td>2023-01-05</td>\n",
       "      <td>2811.0</td>\n",
       "      <td>2022</td>\n",
       "      <td>5</td>\n",
       "      <td>Saturday</td>\n",
       "      <td>12</td>\n",
       "      <td>December</td>\n",
       "      <td>31</td>\n",
       "      <td>23</td>\n",
       "    </tr>\n",
       "  </tbody>\n",
       "</table>\n",
       "</div>"
      ],
      "text/plain": [
       "         date  num_rentals  year  day_of_week day_of_week_name  month  \\\n",
       "1  2023-01-01       1122.0  2022            5         Saturday     12   \n",
       "2  2023-01-02       1413.0  2022            5         Saturday     12   \n",
       "3  2023-01-03       2555.0  2022            5         Saturday     12   \n",
       "4  2023-01-04       2757.0  2022            5         Saturday     12   \n",
       "5  2023-01-05       2811.0  2022            5         Saturday     12   \n",
       "\n",
       "  month_name  day_of_month  hour_of_day  \n",
       "1   December            31           23  \n",
       "2   December            31           23  \n",
       "3   December            31           23  \n",
       "4   December            31           23  \n",
       "5   December            31           23  "
      ]
     },
     "execution_count": 64,
     "metadata": {},
     "output_type": "execute_result"
    }
   ],
   "source": [
    "df_dailyt.head()"
   ]
  },
  {
   "cell_type": "code",
   "execution_count": 69,
   "id": "2d31f9f5",
   "metadata": {},
   "outputs": [
    {
     "name": "stdout",
     "output_type": "stream",
     "text": [
      "Outlier Dates and Counts:\n",
      "Empty DataFrame\n",
      "Columns: [date, num_rentals, year, day_of_week, day_of_week_name, month, month_name, day_of_month, hour_of_day]\n",
      "Index: []\n"
     ]
    }
   ],
   "source": [
    "#analysis of the dates to see if there was anything signficant happening on the outlier days.\n",
    "# Calculate IQR\n",
    "Q1 = df_dailyt['num_rentals'].quantile(0.25)\n",
    "Q3 = df_dailyt['num_rentals'].quantile(0.75)\n",
    "IQR = Q3 - Q1\n",
    "\n",
    "# Define outlier bounds using standard 1.5 multiplier\n",
    "#adjusting the multiplier can affect the range of outlier selection\n",
    "lower_bound = Q1 - 1.5 * IQR\n",
    "upper_bound = Q3 + 1.5 * IQR\n",
    "\n",
    "# Filter outliers\n",
    "outliers = df_dailyt[(df_dailyt['num_rentals'] < lower_bound) | (df_dailyt['num_rentals'] > upper_bound)]\n",
    "print(\"Outlier Dates and Counts:\")\n",
    "print(outliers)\n"
   ]
  },
  {
   "cell_type": "code",
   "execution_count": 92,
   "id": "e1ba0ae1",
   "metadata": {},
   "outputs": [
    {
     "data": {
      "text/plain": [
       "<Axes: xlabel='num_rentals'>"
      ]
     },
     "execution_count": 92,
     "metadata": {},
     "output_type": "execute_result"
    },
    {
     "data": {
      "image/png": "[encoded data removed]",
      "text/plain": [
       "<Figure size 640x480 with 1 Axes>"
      ]
     },
     "metadata": {},
     "output_type": "display_data"
    }
   ],
   "source": [
    "sns.boxplot(x=Q1[\"num_rentals\"])"
   ]
  },
  {
   "cell_type": "code",
   "execution_count": 70,
   "id": "77f41a9b",
   "metadata": {},
   "outputs": [
    {
     "data": {
      "text/html": [
       "<div>\n",
       "<style scoped>\n",
       "    .dataframe tbody tr th:only-of-type {\n",
       "        vertical-align: middle;\n",
       "    }\n",
       "\n",
       "    .dataframe tbody tr th {\n",
       "        vertical-align: top;\n",
       "    }\n",
       "\n",
       "    .dataframe thead th {\n",
       "        text-align: right;\n",
       "    }\n",
       "</style>\n",
       "<table border=\"1\" class=\"dataframe\">\n",
       "  <thead>\n",
       "    <tr style=\"text-align: right;\">\n",
       "      <th></th>\n",
       "      <th>date</th>\n",
       "      <th>num_rentals</th>\n",
       "      <th>year</th>\n",
       "      <th>day_of_week</th>\n",
       "      <th>day_of_week_name</th>\n",
       "      <th>month</th>\n",
       "      <th>month_name</th>\n",
       "      <th>day_of_month</th>\n",
       "      <th>hour_of_day</th>\n",
       "    </tr>\n",
       "  </thead>\n",
       "  <tbody>\n",
       "    <tr>\n",
       "      <th>1</th>\n",
       "      <td>2023-01-01</td>\n",
       "      <td>1122.0</td>\n",
       "      <td>2022</td>\n",
       "      <td>5</td>\n",
       "      <td>Saturday</td>\n",
       "      <td>12</td>\n",
       "      <td>December</td>\n",
       "      <td>31</td>\n",
       "      <td>23</td>\n",
       "    </tr>\n",
       "    <tr>\n",
       "      <th>2</th>\n",
       "      <td>2023-01-02</td>\n",
       "      <td>1413.0</td>\n",
       "      <td>2022</td>\n",
       "      <td>5</td>\n",
       "      <td>Saturday</td>\n",
       "      <td>12</td>\n",
       "      <td>December</td>\n",
       "      <td>31</td>\n",
       "      <td>23</td>\n",
       "    </tr>\n",
       "    <tr>\n",
       "      <th>3</th>\n",
       "      <td>2023-01-03</td>\n",
       "      <td>2555.0</td>\n",
       "      <td>2022</td>\n",
       "      <td>5</td>\n",
       "      <td>Saturday</td>\n",
       "      <td>12</td>\n",
       "      <td>December</td>\n",
       "      <td>31</td>\n",
       "      <td>23</td>\n",
       "    </tr>\n",
       "    <tr>\n",
       "      <th>4</th>\n",
       "      <td>2023-01-04</td>\n",
       "      <td>2757.0</td>\n",
       "      <td>2022</td>\n",
       "      <td>5</td>\n",
       "      <td>Saturday</td>\n",
       "      <td>12</td>\n",
       "      <td>December</td>\n",
       "      <td>31</td>\n",
       "      <td>23</td>\n",
       "    </tr>\n",
       "    <tr>\n",
       "      <th>5</th>\n",
       "      <td>2023-01-05</td>\n",
       "      <td>2811.0</td>\n",
       "      <td>2022</td>\n",
       "      <td>5</td>\n",
       "      <td>Saturday</td>\n",
       "      <td>12</td>\n",
       "      <td>December</td>\n",
       "      <td>31</td>\n",
       "      <td>23</td>\n",
       "    </tr>\n",
       "  </tbody>\n",
       "</table>\n",
       "</div>"
      ],
      "text/plain": [
       "         date  num_rentals  year  day_of_week day_of_week_name  month  \\\n",
       "1  2023-01-01       1122.0  2022            5         Saturday     12   \n",
       "2  2023-01-02       1413.0  2022            5         Saturday     12   \n",
       "3  2023-01-03       2555.0  2022            5         Saturday     12   \n",
       "4  2023-01-04       2757.0  2022            5         Saturday     12   \n",
       "5  2023-01-05       2811.0  2022            5         Saturday     12   \n",
       "\n",
       "  month_name  day_of_month  hour_of_day  \n",
       "1   December            31           23  \n",
       "2   December            31           23  \n",
       "3   December            31           23  \n",
       "4   December            31           23  \n",
       "5   December            31           23  "
      ]
     },
     "execution_count": 70,
     "metadata": {},
     "output_type": "execute_result"
    }
   ],
   "source": [
    "df_dailyt.head()"
   ]
  },
  {
   "cell_type": "code",
   "execution_count": 71,
   "id": "9b01ac92",
   "metadata": {},
   "outputs": [
    {
     "name": "stdout",
     "output_type": "stream",
     "text": [
      "Shapiro-Wilk Test Statistic: 0.9133687615394592\n",
      "p-value: 1.2312256791359444e-13\n",
      "The data does not appear to be normally distributed (reject H0).\n"
     ]
    }
   ],
   "source": [
    "#The Shapiro-Wilk test on the 'num_rentals' column\n",
    "stat, p_value = shapiro(df_dailyt['num_rentals'])\n",
    "\n",
    "# Display the test statistic and p-value\n",
    "print(\"Shapiro-Wilk Test Statistic:\", stat)\n",
    "print(\"p-value:\", p_value)\n",
    "\n",
    "# Interpret the result\n",
    "alpha = 0.05  # significance level\n",
    "if p_value > alpha:\n",
    "    print(\"The data appears to be normally distributed (fail to reject H0).\")\n",
    "else:\n",
    "    print(\"The data does not appear to be normally distributed (reject H0).\")"
   ]
  },
  {
   "cell_type": "code",
   "execution_count": 72,
   "id": "457bfbaf",
   "metadata": {},
   "outputs": [],
   "source": [
    "##Working of the assumption that nice weather results in more rentals, and inversely bad weather results in bad weather.\n",
    "monthly_rentals = df.groupby('month_name')['num_rentals'].sum()\n"
   ]
  },
  {
   "cell_type": "code",
   "execution_count": 73,
   "id": "2465e7ed",
   "metadata": {},
   "outputs": [
    {
     "name": "stdout",
     "output_type": "stream",
     "text": [
      "month_name\n",
      "April         85348.0\n",
      "August        92858.0\n",
      "December      71360.0\n",
      "February      82131.0\n",
      "January       82202.0\n",
      "July          91375.0\n",
      "June          96488.0\n",
      "March         88291.0\n",
      "May          102553.0\n",
      "November      90221.0\n",
      "October       93294.0\n",
      "September     91499.0\n",
      "Name: num_rentals, dtype: float64\n"
     ]
    }
   ],
   "source": [
    "print(monthly_rentals)"
   ]
  },
  {
   "cell_type": "code",
   "execution_count": 93,
   "id": "4b27ccae",
   "metadata": {},
   "outputs": [
    {
     "data": {
      "image/png": "[encoded data removed]",
      "text/plain": [
       "<Figure size 1000x600 with 1 Axes>"
      ]
     },
     "metadata": {},
     "output_type": "display_data"
    }
   ],
   "source": [
    "# Plot the data\n",
    "import matplotlib.pyplot as plt\n",
    "\n",
    "plt.figure(figsize=(10, 6))\n",
    "monthly_rentals.plot(kind='bar')\n",
    "plt.title('Total Number of Rentals Per Month')\n",
    "plt.xlabel('Month')\n",
    "plt.ylabel('Total Rentals')\n",
    "plt.xticks(rotation=45)\n",
    "plt.grid(axis='y')\n",
    "plt.show()"
   ]
  },
  {
   "cell_type": "code",
   "execution_count": 74,
   "id": "64d1e476",
   "metadata": {},
   "outputs": [],
   "source": [
    "###data appears to be not normal so I will take July hourly rentals \n",
    "\n",
    "#filter for the month of July\n",
    "df_hourly_july = df[df['month_name'] == 'July']\n"
   ]
  },
  {
   "cell_type": "code",
   "execution_count": 75,
   "id": "93ed50bc",
   "metadata": {},
   "outputs": [
    {
     "name": "stderr",
     "output_type": "stream",
     "text": [
      "C:\\Users\\T\\AppData\\Local\\Temp\\ipykernel_21412\\399404220.py:3: SettingWithCopyWarning: \n",
      "A value is trying to be set on a copy of a slice from a DataFrame.\n",
      "Try using .loc[row_indexer,col_indexer] = value instead\n",
      "\n",
      "See the caveats in the documentation: https://pandas.pydata.org/pandas-docs/stable/user_guide/indexing.html#returning-a-view-versus-a-copy\n",
      "  df_hourly_july['hour'] = df_hourly_july['last_reported'].dt.hour\n"
     ]
    }
   ],
   "source": [
    "##extract the hour \n",
    "\n",
    "df_hourly_july['hour'] = df_hourly_july['last_reported'].dt.hour"
   ]
  },
  {
   "cell_type": "code",
   "execution_count": 76,
   "id": "a480d2d7",
   "metadata": {},
   "outputs": [],
   "source": [
    "##group the number of rentals per hour \n",
    "rentals_per_hour_july = df_hourly_july.groupby(['last_reported', 'hour'])['num_rentals'].sum().reset_index()\n"
   ]
  },
  {
   "cell_type": "code",
   "execution_count": 77,
   "id": "8e0451cb",
   "metadata": {},
   "outputs": [
    {
     "data": {
      "text/html": [
       "<div>\n",
       "<style scoped>\n",
       "    .dataframe tbody tr th:only-of-type {\n",
       "        vertical-align: middle;\n",
       "    }\n",
       "\n",
       "    .dataframe tbody tr th {\n",
       "        vertical-align: top;\n",
       "    }\n",
       "\n",
       "    .dataframe thead th {\n",
       "        text-align: right;\n",
       "    }\n",
       "</style>\n",
       "<table border=\"1\" class=\"dataframe\">\n",
       "  <thead>\n",
       "    <tr style=\"text-align: right;\">\n",
       "      <th></th>\n",
       "      <th>last_reported</th>\n",
       "      <th>hour</th>\n",
       "      <th>num_rentals</th>\n",
       "    </tr>\n",
       "  </thead>\n",
       "  <tbody>\n",
       "    <tr>\n",
       "      <th>0</th>\n",
       "      <td>2023-07-01 00:19:53</td>\n",
       "      <td>0</td>\n",
       "      <td>0.0</td>\n",
       "    </tr>\n",
       "    <tr>\n",
       "      <th>1</th>\n",
       "      <td>2023-07-01 00:19:57</td>\n",
       "      <td>0</td>\n",
       "      <td>0.0</td>\n",
       "    </tr>\n",
       "    <tr>\n",
       "      <th>2</th>\n",
       "      <td>2023-07-01 00:20:01</td>\n",
       "      <td>0</td>\n",
       "      <td>0.0</td>\n",
       "    </tr>\n",
       "    <tr>\n",
       "      <th>3</th>\n",
       "      <td>2023-07-01 00:20:05</td>\n",
       "      <td>0</td>\n",
       "      <td>0.0</td>\n",
       "    </tr>\n",
       "    <tr>\n",
       "      <th>4</th>\n",
       "      <td>2023-07-01 00:20:07</td>\n",
       "      <td>0</td>\n",
       "      <td>0.0</td>\n",
       "    </tr>\n",
       "  </tbody>\n",
       "</table>\n",
       "</div>"
      ],
      "text/plain": [
       "        last_reported  hour  num_rentals\n",
       "0 2023-07-01 00:19:53     0          0.0\n",
       "1 2023-07-01 00:19:57     0          0.0\n",
       "2 2023-07-01 00:20:01     0          0.0\n",
       "3 2023-07-01 00:20:05     0          0.0\n",
       "4 2023-07-01 00:20:07     0          0.0"
      ]
     },
     "execution_count": 77,
     "metadata": {},
     "output_type": "execute_result"
    }
   ],
   "source": [
    "rentals_per_hour_july.head()"
   ]
  },
  {
   "cell_type": "code",
   "execution_count": null,
   "id": "7454778e",
   "metadata": {},
   "outputs": [],
   "source": [
    "unique_rentals = rentals_per_hour_july['num_rentals'].unique()\n",
    "\n",
    "print(unique_rentals)"
   ]
  },
  {
   "cell_type": "code",
   "execution_count": 78,
   "id": "b6fbd8d3",
   "metadata": {},
   "outputs": [],
   "source": [
    " #Filter data between 9:00 AM (hour 9) and 12:00 AM (hour 23)\n",
    "filtered_data = rentals_per_hour_july[(rentals_per_hour_july['hour'] >= 9) & (rentals_per_hour_july['hour'] <= 23)]"
   ]
  },
  {
   "cell_type": "code",
   "execution_count": 79,
   "id": "e7e1ebb8",
   "metadata": {},
   "outputs": [
    {
     "name": "stdout",
     "output_type": "stream",
     "text": [
      "Shapiro-Wilk Test Statistic: 0.4920065999031067\n",
      "p-value: 0.0\n",
      "The data does not appear to be normally distributed (reject H0).\n"
     ]
    },
    {
     "name": "stderr",
     "output_type": "stream",
     "text": [
      "C:\\Users\\T\\anaconda3\\Lib\\site-packages\\scipy\\stats\\_morestats.py:1882: UserWarning: p-value may not be accurate for N > 5000.\n",
      "  warnings.warn(\"p-value may not be accurate for N > 5000.\")\n"
     ]
    }
   ],
   "source": [
    "#The Shapiro-Wilk test on the 'num_rentals' column\n",
    "stat, p_value = shapiro(filtered_data['num_rentals'])\n",
    "\n",
    "# Display the test statistic and p-value\n",
    "print(\"Shapiro-Wilk Test Statistic:\", stat)\n",
    "print(\"p-value:\", p_value)\n",
    "\n",
    "# Interpret the result\n",
    "alpha = 0.05  # significance level\n",
    "if p_value > alpha:\n",
    "    print(\"The data appears to be normally distributed (fail to reject H0).\")\n",
    "else:\n",
    "    print(\"The data does not appear to be normally distributed (reject H0).\")"
   ]
  },
  {
   "cell_type": "code",
   "execution_count": 80,
   "id": "e865288e",
   "metadata": {},
   "outputs": [
    {
     "data": {
      "text/html": [
       "<div>\n",
       "<style scoped>\n",
       "    .dataframe tbody tr th:only-of-type {\n",
       "        vertical-align: middle;\n",
       "    }\n",
       "\n",
       "    .dataframe tbody tr th {\n",
       "        vertical-align: top;\n",
       "    }\n",
       "\n",
       "    .dataframe thead th {\n",
       "        text-align: right;\n",
       "    }\n",
       "</style>\n",
       "<table border=\"1\" class=\"dataframe\">\n",
       "  <thead>\n",
       "    <tr style=\"text-align: right;\">\n",
       "      <th></th>\n",
       "      <th>date</th>\n",
       "      <th>num_rentals</th>\n",
       "      <th>year</th>\n",
       "      <th>day_of_week</th>\n",
       "      <th>day_of_week_name</th>\n",
       "      <th>month</th>\n",
       "      <th>month_name</th>\n",
       "      <th>day_of_month</th>\n",
       "      <th>hour_of_day</th>\n",
       "    </tr>\n",
       "  </thead>\n",
       "  <tbody>\n",
       "    <tr>\n",
       "      <th>1</th>\n",
       "      <td>2023-01-01</td>\n",
       "      <td>1122.0</td>\n",
       "      <td>2022</td>\n",
       "      <td>5</td>\n",
       "      <td>Saturday</td>\n",
       "      <td>12</td>\n",
       "      <td>December</td>\n",
       "      <td>31</td>\n",
       "      <td>23</td>\n",
       "    </tr>\n",
       "    <tr>\n",
       "      <th>2</th>\n",
       "      <td>2023-01-02</td>\n",
       "      <td>1413.0</td>\n",
       "      <td>2022</td>\n",
       "      <td>5</td>\n",
       "      <td>Saturday</td>\n",
       "      <td>12</td>\n",
       "      <td>December</td>\n",
       "      <td>31</td>\n",
       "      <td>23</td>\n",
       "    </tr>\n",
       "    <tr>\n",
       "      <th>3</th>\n",
       "      <td>2023-01-03</td>\n",
       "      <td>2555.0</td>\n",
       "      <td>2022</td>\n",
       "      <td>5</td>\n",
       "      <td>Saturday</td>\n",
       "      <td>12</td>\n",
       "      <td>December</td>\n",
       "      <td>31</td>\n",
       "      <td>23</td>\n",
       "    </tr>\n",
       "    <tr>\n",
       "      <th>4</th>\n",
       "      <td>2023-01-04</td>\n",
       "      <td>2757.0</td>\n",
       "      <td>2022</td>\n",
       "      <td>5</td>\n",
       "      <td>Saturday</td>\n",
       "      <td>12</td>\n",
       "      <td>December</td>\n",
       "      <td>31</td>\n",
       "      <td>23</td>\n",
       "    </tr>\n",
       "    <tr>\n",
       "      <th>5</th>\n",
       "      <td>2023-01-05</td>\n",
       "      <td>2811.0</td>\n",
       "      <td>2022</td>\n",
       "      <td>5</td>\n",
       "      <td>Saturday</td>\n",
       "      <td>12</td>\n",
       "      <td>December</td>\n",
       "      <td>31</td>\n",
       "      <td>23</td>\n",
       "    </tr>\n",
       "  </tbody>\n",
       "</table>\n",
       "</div>"
      ],
      "text/plain": [
       "         date  num_rentals  year  day_of_week day_of_week_name  month  \\\n",
       "1  2023-01-01       1122.0  2022            5         Saturday     12   \n",
       "2  2023-01-02       1413.0  2022            5         Saturday     12   \n",
       "3  2023-01-03       2555.0  2022            5         Saturday     12   \n",
       "4  2023-01-04       2757.0  2022            5         Saturday     12   \n",
       "5  2023-01-05       2811.0  2022            5         Saturday     12   \n",
       "\n",
       "  month_name  day_of_month  hour_of_day  \n",
       "1   December            31           23  \n",
       "2   December            31           23  \n",
       "3   December            31           23  \n",
       "4   December            31           23  \n",
       "5   December            31           23  "
      ]
     },
     "execution_count": 80,
     "metadata": {},
     "output_type": "execute_result"
    }
   ],
   "source": [
    "##gaind lots of information but no normal data \n",
    "\n",
    "#Log data \n",
    "\n",
    "df_dailyt.head()"
   ]
  },
  {
   "cell_type": "code",
   "execution_count": null,
   "id": "45e34449",
   "metadata": {},
   "outputs": [],
   "source": []
  },
  {
   "cell_type": "code",
   "execution_count": 82,
   "id": "d124cb9a",
   "metadata": {},
   "outputs": [],
   "source": [
    "##Date wasn't in the datetime format for some reason\n",
    "df_dailyt['date'] = pd.to_datetime(df_dailyt['date'])"
   ]
  },
  {
   "cell_type": "code",
   "execution_count": 83,
   "id": "1e38d946",
   "metadata": {},
   "outputs": [],
   "source": [
    "Q1 = df_dailyt[(df_dailyt['date'] >= '2023-01-01') & (df_dailyt['date'] <= '2023-03-31')]\n"
   ]
  },
  {
   "cell_type": "code",
   "execution_count": 84,
   "id": "e3d9715b",
   "metadata": {},
   "outputs": [
    {
     "data": {
      "text/plain": [
       "<Axes: xlabel='num_rentals'>"
      ]
     },
     "execution_count": 84,
     "metadata": {},
     "output_type": "execute_result"
    },
    {
     "data": {
      "image/png": "[encoded data removed]",
      "text/plain": [
       "<Figure size 640x480 with 1 Axes>"
      ]
     },
     "metadata": {},
     "output_type": "display_data"
    }
   ],
   "source": [
    "sns.boxplot(x=Q1[\"num_rentals\"]) ##the data is skewed "
   ]
  },
  {
   "cell_type": "code",
   "execution_count": 85,
   "id": "23ae223f",
   "metadata": {},
   "outputs": [],
   "source": [
    "df_dailyt['is_weekend'] = df_dailyt['date'].dt.day_name().isin(['Saturday', 'Sunday'])"
   ]
  },
  {
   "cell_type": "code",
   "execution_count": 86,
   "id": "756a7739",
   "metadata": {},
   "outputs": [],
   "source": [
    "df_dailyt['is_weekday'] = ~df_dailyt['is_weekend']  "
   ]
  },
  {
   "cell_type": "code",
   "execution_count": 87,
   "id": "0fe02200",
   "metadata": {},
   "outputs": [
    {
     "data": {
      "text/html": [
       "<div>\n",
       "<style scoped>\n",
       "    .dataframe tbody tr th:only-of-type {\n",
       "        vertical-align: middle;\n",
       "    }\n",
       "\n",
       "    .dataframe tbody tr th {\n",
       "        vertical-align: top;\n",
       "    }\n",
       "\n",
       "    .dataframe thead th {\n",
       "        text-align: right;\n",
       "    }\n",
       "</style>\n",
       "<table border=\"1\" class=\"dataframe\">\n",
       "  <thead>\n",
       "    <tr style=\"text-align: right;\">\n",
       "      <th></th>\n",
       "      <th>date</th>\n",
       "      <th>num_rentals</th>\n",
       "      <th>year</th>\n",
       "      <th>day_of_week</th>\n",
       "      <th>day_of_week_name</th>\n",
       "      <th>month</th>\n",
       "      <th>month_name</th>\n",
       "      <th>day_of_month</th>\n",
       "      <th>hour_of_day</th>\n",
       "      <th>is_weekend</th>\n",
       "      <th>is_weekday</th>\n",
       "    </tr>\n",
       "  </thead>\n",
       "  <tbody>\n",
       "    <tr>\n",
       "      <th>1</th>\n",
       "      <td>2023-01-01</td>\n",
       "      <td>1122.0</td>\n",
       "      <td>2022</td>\n",
       "      <td>5</td>\n",
       "      <td>Saturday</td>\n",
       "      <td>12</td>\n",
       "      <td>December</td>\n",
       "      <td>31</td>\n",
       "      <td>23</td>\n",
       "      <td>True</td>\n",
       "      <td>False</td>\n",
       "    </tr>\n",
       "    <tr>\n",
       "      <th>2</th>\n",
       "      <td>2023-01-02</td>\n",
       "      <td>1413.0</td>\n",
       "      <td>2022</td>\n",
       "      <td>5</td>\n",
       "      <td>Saturday</td>\n",
       "      <td>12</td>\n",
       "      <td>December</td>\n",
       "      <td>31</td>\n",
       "      <td>23</td>\n",
       "      <td>False</td>\n",
       "      <td>True</td>\n",
       "    </tr>\n",
       "    <tr>\n",
       "      <th>3</th>\n",
       "      <td>2023-01-03</td>\n",
       "      <td>2555.0</td>\n",
       "      <td>2022</td>\n",
       "      <td>5</td>\n",
       "      <td>Saturday</td>\n",
       "      <td>12</td>\n",
       "      <td>December</td>\n",
       "      <td>31</td>\n",
       "      <td>23</td>\n",
       "      <td>False</td>\n",
       "      <td>True</td>\n",
       "    </tr>\n",
       "    <tr>\n",
       "      <th>4</th>\n",
       "      <td>2023-01-04</td>\n",
       "      <td>2757.0</td>\n",
       "      <td>2022</td>\n",
       "      <td>5</td>\n",
       "      <td>Saturday</td>\n",
       "      <td>12</td>\n",
       "      <td>December</td>\n",
       "      <td>31</td>\n",
       "      <td>23</td>\n",
       "      <td>False</td>\n",
       "      <td>True</td>\n",
       "    </tr>\n",
       "    <tr>\n",
       "      <th>5</th>\n",
       "      <td>2023-01-05</td>\n",
       "      <td>2811.0</td>\n",
       "      <td>2022</td>\n",
       "      <td>5</td>\n",
       "      <td>Saturday</td>\n",
       "      <td>12</td>\n",
       "      <td>December</td>\n",
       "      <td>31</td>\n",
       "      <td>23</td>\n",
       "      <td>False</td>\n",
       "      <td>True</td>\n",
       "    </tr>\n",
       "  </tbody>\n",
       "</table>\n",
       "</div>"
      ],
      "text/plain": [
       "        date  num_rentals  year  day_of_week day_of_week_name  month  \\\n",
       "1 2023-01-01       1122.0  2022            5         Saturday     12   \n",
       "2 2023-01-02       1413.0  2022            5         Saturday     12   \n",
       "3 2023-01-03       2555.0  2022            5         Saturday     12   \n",
       "4 2023-01-04       2757.0  2022            5         Saturday     12   \n",
       "5 2023-01-05       2811.0  2022            5         Saturday     12   \n",
       "\n",
       "  month_name  day_of_month  hour_of_day  is_weekend  is_weekday  \n",
       "1   December            31           23        True       False  \n",
       "2   December            31           23       False        True  \n",
       "3   December            31           23       False        True  \n",
       "4   December            31           23       False        True  \n",
       "5   December            31           23       False        True  "
      ]
     },
     "execution_count": 87,
     "metadata": {},
     "output_type": "execute_result"
    }
   ],
   "source": [
    "df_dailyt.head()"
   ]
  },
  {
   "cell_type": "code",
   "execution_count": 88,
   "id": "01a4bd95",
   "metadata": {},
   "outputs": [],
   "source": [
    "# Separate weekend and weekday data\n",
    "weekend_rentals = df_dailyt[df_dailyt['is_weekend'] == True]['num_rentals']\n",
    "weekday_rentals = df_dailyt[df_dailyt['is_weekday'] == True]['num_rentals']"
   ]
  },
  {
   "cell_type": "code",
   "execution_count": 89,
   "id": "97163f6a",
   "metadata": {},
   "outputs": [
    {
     "data": {
      "image/png": "[encoded data removed]",
      "text/plain": [
       "<Figure size 1000x500 with 1 Axes>"
      ]
     },
     "metadata": {},
     "output_type": "display_data"
    },
    {
     "data": {
      "image/png": "[encoded data removed]",
      "text/plain": [
       "<Figure size 1000x500 with 1 Axes>"
      ]
     },
     "metadata": {},
     "output_type": "display_data"
    }
   ],
   "source": [
    "# Plot histogram for weekend rentals\n",
    "plt.figure(figsize=(10, 5))\n",
    "plt.hist(weekend_rentals, bins=20, alpha=0.7, label='Weekend Rentals')\n",
    "plt.xlabel('Number of Rentals')\n",
    "plt.ylabel('Frequency')\n",
    "plt.title('Histogram of Weekend Rentals')\n",
    "plt.legend()\n",
    "plt.show()\n",
    "\n",
    "# Plot histogram for weekday rentals\n",
    "plt.figure(figsize=(10, 5))\n",
    "plt.hist(weekday_rentals, bins=20, alpha=0.7, color='orange', label='Weekday Rentals')\n",
    "plt.xlabel('Number of Rentals')\n",
    "plt.ylabel('Frequency')\n",
    "plt.title('Histogram of Weekday Rentals')\n",
    "plt.legend()\n",
    "plt.show()"
   ]
  },
  {
   "cell_type": "code",
   "execution_count": 90,
   "id": "e0242178",
   "metadata": {},
   "outputs": [
    {
     "name": "stdout",
     "output_type": "stream",
     "text": [
      "Shapiro-Wilk Test Statistic: 0.9914825558662415\n",
      "p-value: 0.7556470632553101\n",
      "The data appears to be normally distributed (fail to reject H0).\n"
     ]
    }
   ],
   "source": [
    "#The Shapiro-Wilk test on the 'num_rentals' column\n",
    "stat, p_value = shapiro(weekend_rentals)\n",
    "\n",
    "# Display the test statistic and p-value\n",
    "print(\"Shapiro-Wilk Test Statistic:\", stat)\n",
    "print(\"p-value:\", p_value)\n",
    "\n",
    "# Interpret the result\n",
    "alpha = 0.05  # significance level\n",
    "if p_value > alpha:\n",
    "    print(\"The data appears to be normally distributed (fail to reject H0).\")\n",
    "else:\n",
    "    print(\"The data does not appear to be normally distributed (reject H0).\")"
   ]
  },
  {
   "cell_type": "code",
   "execution_count": 91,
   "id": "5d426edd",
   "metadata": {},
   "outputs": [
    {
     "name": "stdout",
     "output_type": "stream",
     "text": [
      "Shapiro-Wilk Test Statistic: 0.8159146308898926\n",
      "p-value: 7.38692006995657e-17\n",
      "The data does not appear to be normally distributed (reject H0).\n"
     ]
    }
   ],
   "source": [
    "#The Shapiro-Wilk test on the weekday 'num_rentals' column\n",
    "stat, p_value = shapiro(weekday_rentals)\n",
    "\n",
    "# Display the test statistic and p-value\n",
    "print(\"Shapiro-Wilk Test Statistic:\", stat)\n",
    "print(\"p-value:\", p_value)\n",
    "\n",
    "# Interpret the result\n",
    "alpha = 0.05  # significance level\n",
    "if p_value > alpha:\n",
    "    print(\"The data appears to be normally distributed (fail to reject H0).\")\n",
    "else:\n",
    "    print(\"The data does not appear to be normally distributed (reject H0).\")"
   ]
  },
  {
   "cell_type": "markdown",
   "id": "1edd90cb",
   "metadata": {},
   "source": [
    "# Section 1.3 Data exploration of Toronto data "
   ]
  },
  {
   "cell_type": "code",
   "execution_count": null,
   "id": "99246e73",
   "metadata": {},
   "outputs": [],
   "source": [
    "dft.info()"
   ]
  },
  {
   "cell_type": "code",
   "execution_count": null,
   "id": "5a76c597",
   "metadata": {},
   "outputs": [],
   "source": [
    "dft = dft.rename(columns={\"Trip Id\": \"trip_id\"})\n",
    "dft = dft.rename(columns={\"Trip  Duration\": \"trip_duration\"})##easier to work with no spaces"
   ]
  },
  {
   "cell_type": "code",
   "execution_count": null,
   "id": "60d3b9c0",
   "metadata": {},
   "outputs": [],
   "source": [
    "\n",
    "dft['num_rentals'] = dft['trip_id'].nunique()\n"
   ]
  },
  {
   "cell_type": "code",
   "execution_count": null,
   "id": "9365ec16",
   "metadata": {},
   "outputs": [],
   "source": [
    "print(dft.nunique())"
   ]
  },
  {
   "cell_type": "code",
   "execution_count": null,
   "id": "a0ef64fd",
   "metadata": {},
   "outputs": [],
   "source": [
    "dft.head()"
   ]
  },
  {
   "cell_type": "code",
   "execution_count": null,
   "id": "dda3639e",
   "metadata": {},
   "outputs": [],
   "source": [
    "dft.info()"
   ]
  },
  {
   "cell_type": "code",
   "execution_count": null,
   "id": "aae2dc96",
   "metadata": {},
   "outputs": [],
   "source": [
    "##Need to put the dates in the right format\n",
    "dft['Start Time'] = pd.to_datetime(dft['Start Time'], format='%m/%d/%Y %H:%M')\n",
    "dft['End Time'] = pd.to_datetime(dft['End Time'], format='%m/%d/%Y %H:%M')\n"
   ]
  },
  {
   "cell_type": "code",
   "execution_count": null,
   "id": "c93e5605",
   "metadata": {},
   "outputs": [],
   "source": [
    "#Have to use the dt date function so the data is represented daily for comparison to the dublin dataset\n",
    "dft['onlyDate'] = dft['Start Time'].dt.date "
   ]
  },
  {
   "cell_type": "code",
   "execution_count": null,
   "id": "9f171e2c",
   "metadata": {},
   "outputs": [],
   "source": [
    "dft.head()"
   ]
  },
  {
   "cell_type": "code",
   "execution_count": null,
   "id": "8e2c564e",
   "metadata": {},
   "outputs": [],
   "source": [
    "dft_daily = dft.groupby('onlyDate')['num_rentals'].nunique()"
   ]
  },
  {
   "cell_type": "code",
   "execution_count": null,
   "id": "3be4fbc0",
   "metadata": {},
   "outputs": [],
   "source": [
    "dft_daily.head"
   ]
  },
  {
   "cell_type": "code",
   "execution_count": null,
   "id": "2a8a8f38",
   "metadata": {},
   "outputs": [],
   "source": [
    "dft_daily=dft_daily.reset_index()"
   ]
  },
  {
   "cell_type": "code",
   "execution_count": null,
   "id": "24281927",
   "metadata": {},
   "outputs": [],
   "source": [
    "dft_daily.shape"
   ]
  },
  {
   "cell_type": "code",
   "execution_count": null,
   "id": "85818547",
   "metadata": {},
   "outputs": [],
   "source": [
    "dft_daily.head()"
   ]
  },
  {
   "cell_type": "code",
   "execution_count": null,
   "id": "c4172f26",
   "metadata": {},
   "outputs": [],
   "source": [
    "##lets see if the trip data is normal \n",
    "sns.boxplot(x=dft_daily[\"num_rentals\"])"
   ]
  },
  {
   "cell_type": "code",
   "execution_count": null,
   "id": "741c1c2f",
   "metadata": {},
   "outputs": [],
   "source": [
    "#The Shapiro-Wilk test on the 'num_rentals' column\n",
    "stat, p_value = shapiro(dft_daily['num_rentals'])\n",
    "\n",
    "# Display the test statistic and p-value\n",
    "print(\"Shapiro-Wilk Test Statistic:\", stat)\n",
    "print(\"p-value:\", p_value)\n",
    "\n",
    "# Interpret the result\n",
    "alpha = 0.05  # significance level\n",
    "if p_value > alpha:\n",
    "    print(\"The data appears to be normally distributed (fail to reject H0).\")\n",
    "else:\n",
    "    print(\"The data does not appear to be normally distributed (reject H0).\")"
   ]
  },
  {
   "cell_type": "code",
   "execution_count": null,
   "id": "f0b4a710",
   "metadata": {},
   "outputs": [],
   "source": []
  },
  {
   "cell_type": "code",
   "execution_count": null,
   "id": "3fef757b",
   "metadata": {},
   "outputs": [],
   "source": []
  },
  {
   "cell_type": "code",
   "execution_count": null,
   "id": "d34c569e",
   "metadata": {},
   "outputs": [],
   "source": []
  },
  {
   "cell_type": "markdown",
   "id": "b70f6a27",
   "metadata": {},
   "source": [
    "# weather data"
   ]
  },
  {
   "cell_type": "code",
   "execution_count": 98,
   "id": "8a90a2d7",
   "metadata": {},
   "outputs": [],
   "source": [
    "####weather data \n",
    "weather_data = pd.read_csv(\"dweather.csv\")"
   ]
  },
  {
   "cell_type": "code",
   "execution_count": 99,
   "id": "3a699e1a",
   "metadata": {},
   "outputs": [
    {
     "data": {
      "text/html": [
       "<div>\n",
       "<style scoped>\n",
       "    .dataframe tbody tr th:only-of-type {\n",
       "        vertical-align: middle;\n",
       "    }\n",
       "\n",
       "    .dataframe tbody tr th {\n",
       "        vertical-align: top;\n",
       "    }\n",
       "\n",
       "    .dataframe thead th {\n",
       "        text-align: right;\n",
       "    }\n",
       "</style>\n",
       "<table border=\"1\" class=\"dataframe\">\n",
       "  <thead>\n",
       "    <tr style=\"text-align: right;\">\n",
       "      <th></th>\n",
       "      <th>date</th>\n",
       "      <th>ind</th>\n",
       "      <th>maxtp</th>\n",
       "      <th>ind.1</th>\n",
       "      <th>mintp</th>\n",
       "      <th>igmin</th>\n",
       "      <th>ind.2</th>\n",
       "      <th>rain</th>\n",
       "      <th>cbl</th>\n",
       "      <th>wdsp</th>\n",
       "      <th>...</th>\n",
       "      <th>hg</th>\n",
       "      <th>sun</th>\n",
       "      <th>dos</th>\n",
       "      <th>g_rad</th>\n",
       "      <th>soil</th>\n",
       "      <th>pe</th>\n",
       "      <th>evap</th>\n",
       "      <th>smd_wd</th>\n",
       "      <th>smd_md</th>\n",
       "      <th>smd_pd</th>\n",
       "    </tr>\n",
       "  </thead>\n",
       "  <tbody>\n",
       "    <tr>\n",
       "      <th>0</th>\n",
       "      <td>01-Jan-42</td>\n",
       "      <td>0</td>\n",
       "      <td>9.7</td>\n",
       "      <td>0</td>\n",
       "      <td>6.8</td>\n",
       "      <td>0</td>\n",
       "      <td>2</td>\n",
       "      <td>0.0</td>\n",
       "      <td>1020.3</td>\n",
       "      <td>17.2</td>\n",
       "      <td>...</td>\n",
       "      <td></td>\n",
       "      <td>0.0</td>\n",
       "      <td>0</td>\n",
       "      <td></td>\n",
       "      <td></td>\n",
       "      <td>1.1</td>\n",
       "      <td>1.4</td>\n",
       "      <td></td>\n",
       "      <td></td>\n",
       "      <td></td>\n",
       "    </tr>\n",
       "    <tr>\n",
       "      <th>1</th>\n",
       "      <td>02-Jan-42</td>\n",
       "      <td>0</td>\n",
       "      <td>9.9</td>\n",
       "      <td>0</td>\n",
       "      <td>7.9</td>\n",
       "      <td>0</td>\n",
       "      <td>0</td>\n",
       "      <td>0.1</td>\n",
       "      <td>1016.2</td>\n",
       "      <td>15.2</td>\n",
       "      <td>...</td>\n",
       "      <td></td>\n",
       "      <td>0.0</td>\n",
       "      <td>0</td>\n",
       "      <td></td>\n",
       "      <td></td>\n",
       "      <td>0.7</td>\n",
       "      <td>0.9</td>\n",
       "      <td></td>\n",
       "      <td></td>\n",
       "      <td></td>\n",
       "    </tr>\n",
       "    <tr>\n",
       "      <th>2</th>\n",
       "      <td>03-Jan-42</td>\n",
       "      <td>0</td>\n",
       "      <td>11.2</td>\n",
       "      <td>0</td>\n",
       "      <td>8.9</td>\n",
       "      <td>0</td>\n",
       "      <td>0</td>\n",
       "      <td>1.5</td>\n",
       "      <td>1006.8</td>\n",
       "      <td>14.0</td>\n",
       "      <td>...</td>\n",
       "      <td></td>\n",
       "      <td>0.1</td>\n",
       "      <td>0</td>\n",
       "      <td></td>\n",
       "      <td></td>\n",
       "      <td>0.5</td>\n",
       "      <td>0.6</td>\n",
       "      <td></td>\n",
       "      <td></td>\n",
       "      <td></td>\n",
       "    </tr>\n",
       "    <tr>\n",
       "      <th>3</th>\n",
       "      <td>04-Jan-42</td>\n",
       "      <td>0</td>\n",
       "      <td>9.2</td>\n",
       "      <td>0</td>\n",
       "      <td>2.7</td>\n",
       "      <td>0</td>\n",
       "      <td>0</td>\n",
       "      <td>3.5</td>\n",
       "      <td>1001.5</td>\n",
       "      <td>17.0</td>\n",
       "      <td>...</td>\n",
       "      <td></td>\n",
       "      <td>0.6</td>\n",
       "      <td>0</td>\n",
       "      <td></td>\n",
       "      <td></td>\n",
       "      <td>0.6</td>\n",
       "      <td>0.7</td>\n",
       "      <td></td>\n",
       "      <td></td>\n",
       "      <td></td>\n",
       "    </tr>\n",
       "    <tr>\n",
       "      <th>4</th>\n",
       "      <td>05-Jan-42</td>\n",
       "      <td>0</td>\n",
       "      <td>3.5</td>\n",
       "      <td>1</td>\n",
       "      <td>-0.8</td>\n",
       "      <td>0</td>\n",
       "      <td>0</td>\n",
       "      <td>0.6</td>\n",
       "      <td>1013.4</td>\n",
       "      <td>13.0</td>\n",
       "      <td>...</td>\n",
       "      <td></td>\n",
       "      <td>3.4</td>\n",
       "      <td>0</td>\n",
       "      <td></td>\n",
       "      <td></td>\n",
       "      <td>0.6</td>\n",
       "      <td>0.7</td>\n",
       "      <td></td>\n",
       "      <td></td>\n",
       "      <td></td>\n",
       "    </tr>\n",
       "  </tbody>\n",
       "</table>\n",
       "<p>5 rows × 25 columns</p>\n",
       "</div>"
      ],
      "text/plain": [
       "        date  ind  maxtp  ind.1  mintp  igmin  ind.2  rain     cbl  wdsp  ...  \\\n",
       "0  01-Jan-42    0    9.7      0    6.8      0      2   0.0  1020.3  17.2  ...   \n",
       "1  02-Jan-42    0    9.9      0    7.9      0      0   0.1  1016.2  15.2  ...   \n",
       "2  03-Jan-42    0   11.2      0    8.9      0      0   1.5  1006.8  14.0  ...   \n",
       "3  04-Jan-42    0    9.2      0    2.7      0      0   3.5  1001.5  17.0  ...   \n",
       "4  05-Jan-42    0    3.5      1   -0.8      0      0   0.6  1013.4  13.0  ...   \n",
       "\n",
       "   hg  sun  dos g_rad  soil   pe  evap smd_wd smd_md smd_pd  \n",
       "0      0.0    0              1.1   1.4                       \n",
       "1      0.0    0              0.7   0.9                       \n",
       "2      0.1    0              0.5   0.6                       \n",
       "3      0.6    0              0.6   0.7                       \n",
       "4      3.4    0              0.6   0.7                       \n",
       "\n",
       "[5 rows x 25 columns]"
      ]
     },
     "execution_count": 99,
     "metadata": {},
     "output_type": "execute_result"
    }
   ],
   "source": [
    "weather_data.head()"
   ]
  },
  {
   "cell_type": "code",
   "execution_count": null,
   "id": "e1dc1673",
   "metadata": {},
   "outputs": [],
   "source": [
    "weather_data.tail()"
   ]
  },
  {
   "cell_type": "code",
   "execution_count": null,
   "id": "81cabe88",
   "metadata": {},
   "outputs": [],
   "source": [
    "weather_data.info()"
   ]
  },
  {
   "cell_type": "code",
   "execution_count": 100,
   "id": "7530139b",
   "metadata": {},
   "outputs": [
    {
     "name": "stderr",
     "output_type": "stream",
     "text": [
      "C:\\Users\\T\\AppData\\Local\\Temp\\ipykernel_21412\\1801666782.py:1: UserWarning:\n",
      "\n",
      "Could not infer format, so each element will be parsed individually, falling back to `dateutil`. To ensure parsing is consistent and as-expected, please specify a format.\n",
      "\n"
     ]
    }
   ],
   "source": [
    "weather_data['date'] = pd.to_datetime(weather_data['date'])  ##convert to date format "
   ]
  },
  {
   "cell_type": "code",
   "execution_count": null,
   "id": "4782f207",
   "metadata": {},
   "outputs": [],
   "source": [
    "weather_data.info"
   ]
  },
  {
   "cell_type": "code",
   "execution_count": null,
   "id": "1bc70c98",
   "metadata": {},
   "outputs": [],
   "source": [
    "weather_data.head()"
   ]
  },
  {
   "cell_type": "code",
   "execution_count": null,
   "id": "a8305740",
   "metadata": {},
   "outputs": [],
   "source": [
    "weather_data.tail()"
   ]
  },
  {
   "cell_type": "code",
   "execution_count": null,
   "id": "5f6ba0c9",
   "metadata": {},
   "outputs": [],
   "source": []
  },
  {
   "cell_type": "code",
   "execution_count": 101,
   "id": "28289419",
   "metadata": {},
   "outputs": [],
   "source": [
    "start_date =('2023-01-01') \n",
    "end_date =('2023-12-31')    \n"
   ]
  },
  {
   "cell_type": "code",
   "execution_count": 102,
   "id": "3e1f5613",
   "metadata": {},
   "outputs": [],
   "source": [
    "##will filter for the weather in the same range as the dublin bikes dataset\n",
    "weather_df = weather_data[(weather_data['date'] >= start_date) & (weather_data['date'] < end_date)]"
   ]
  },
  {
   "cell_type": "code",
   "execution_count": null,
   "id": "c66f6f2e",
   "metadata": {},
   "outputs": [],
   "source": [
    "weather_df.shape"
   ]
  },
  {
   "cell_type": "code",
   "execution_count": null,
   "id": "a24ffaa4",
   "metadata": {},
   "outputs": [],
   "source": [
    "weather_df.nunique()"
   ]
  },
  {
   "cell_type": "code",
   "execution_count": 103,
   "id": "951a73d4",
   "metadata": {},
   "outputs": [],
   "source": [
    "weather_df = weather_df.drop([\"soil\", \"g_rad\",\"pe\",\"evap\",\"smd_wd\",\"smd_md\",\"smd_pd\",\"ind\" ], axis=1)  ##drop "
   ]
  },
  {
   "cell_type": "code",
   "execution_count": null,
   "id": "5c745825",
   "metadata": {},
   "outputs": [],
   "source": [
    "#df_daily.reset_index().head()"
   ]
  },
  {
   "cell_type": "code",
   "execution_count": null,
   "id": "834d97e5",
   "metadata": {},
   "outputs": [],
   "source": [
    "weather_df.head()"
   ]
  },
  {
   "cell_type": "code",
   "execution_count": null,
   "id": "2d8d2800",
   "metadata": {},
   "outputs": [],
   "source": [
    "#df_daily=df_daily.reset_index().head()"
   ]
  },
  {
   "cell_type": "code",
   "execution_count": null,
   "id": "66be460d",
   "metadata": {},
   "outputs": [],
   "source": [
    "#df_daily.info()"
   ]
  },
  {
   "cell_type": "code",
   "execution_count": 104,
   "id": "ae6b892b",
   "metadata": {},
   "outputs": [],
   "source": [
    "final_df = pd.merge(df_dailyt, weather_df, on='date', how ='inner') ###needs to be wrapped in a list to make the join work"
   ]
  },
  {
   "cell_type": "code",
   "execution_count": null,
   "id": "52ac483a",
   "metadata": {},
   "outputs": [],
   "source": [
    "final_df.tail()"
   ]
  },
  {
   "cell_type": "code",
   "execution_count": null,
   "id": "646b5546",
   "metadata": {},
   "outputs": [],
   "source": [
    "final_df.shape  "
   ]
  },
  {
   "cell_type": "code",
   "execution_count": 105,
   "id": "6ea4cfa4",
   "metadata": {},
   "outputs": [
    {
     "data": {
      "text/html": [
       "<div>\n",
       "<style scoped>\n",
       "    .dataframe tbody tr th:only-of-type {\n",
       "        vertical-align: middle;\n",
       "    }\n",
       "\n",
       "    .dataframe tbody tr th {\n",
       "        vertical-align: top;\n",
       "    }\n",
       "\n",
       "    .dataframe thead th {\n",
       "        text-align: right;\n",
       "    }\n",
       "</style>\n",
       "<table border=\"1\" class=\"dataframe\">\n",
       "  <thead>\n",
       "    <tr style=\"text-align: right;\">\n",
       "      <th></th>\n",
       "      <th>date</th>\n",
       "      <th>num_rentals</th>\n",
       "      <th>year</th>\n",
       "      <th>day_of_week</th>\n",
       "      <th>day_of_week_name</th>\n",
       "      <th>month</th>\n",
       "      <th>month_name</th>\n",
       "      <th>day_of_month</th>\n",
       "      <th>hour_of_day</th>\n",
       "      <th>is_weekend</th>\n",
       "      <th>...</th>\n",
       "      <th>cbl</th>\n",
       "      <th>wdsp</th>\n",
       "      <th>ind.3</th>\n",
       "      <th>hm</th>\n",
       "      <th>ind.4</th>\n",
       "      <th>ddhm</th>\n",
       "      <th>ind.5</th>\n",
       "      <th>hg</th>\n",
       "      <th>sun</th>\n",
       "      <th>dos</th>\n",
       "    </tr>\n",
       "  </thead>\n",
       "  <tbody>\n",
       "    <tr>\n",
       "      <th>0</th>\n",
       "      <td>2023-01-01</td>\n",
       "      <td>1122.0</td>\n",
       "      <td>2022</td>\n",
       "      <td>5</td>\n",
       "      <td>Saturday</td>\n",
       "      <td>12</td>\n",
       "      <td>December</td>\n",
       "      <td>31</td>\n",
       "      <td>23</td>\n",
       "      <td>True</td>\n",
       "      <td>...</td>\n",
       "      <td>991.5</td>\n",
       "      <td>5.5</td>\n",
       "      <td>0</td>\n",
       "      <td>11</td>\n",
       "      <td>0</td>\n",
       "      <td>280</td>\n",
       "      <td>0</td>\n",
       "      <td>18</td>\n",
       "      <td>0.2</td>\n",
       "      <td>0</td>\n",
       "    </tr>\n",
       "    <tr>\n",
       "      <th>1</th>\n",
       "      <td>2023-01-02</td>\n",
       "      <td>1413.0</td>\n",
       "      <td>2022</td>\n",
       "      <td>5</td>\n",
       "      <td>Saturday</td>\n",
       "      <td>12</td>\n",
       "      <td>December</td>\n",
       "      <td>31</td>\n",
       "      <td>23</td>\n",
       "      <td>False</td>\n",
       "      <td>...</td>\n",
       "      <td>1002.6</td>\n",
       "      <td>6.2</td>\n",
       "      <td>0</td>\n",
       "      <td>14</td>\n",
       "      <td>0</td>\n",
       "      <td>160</td>\n",
       "      <td>0</td>\n",
       "      <td>20</td>\n",
       "      <td>6.8</td>\n",
       "      <td>0</td>\n",
       "    </tr>\n",
       "    <tr>\n",
       "      <th>2</th>\n",
       "      <td>2023-01-03</td>\n",
       "      <td>2555.0</td>\n",
       "      <td>2022</td>\n",
       "      <td>5</td>\n",
       "      <td>Saturday</td>\n",
       "      <td>12</td>\n",
       "      <td>December</td>\n",
       "      <td>31</td>\n",
       "      <td>23</td>\n",
       "      <td>False</td>\n",
       "      <td>...</td>\n",
       "      <td>996.3</td>\n",
       "      <td>12.5</td>\n",
       "      <td>0</td>\n",
       "      <td>19</td>\n",
       "      <td>0</td>\n",
       "      <td>240</td>\n",
       "      <td>0</td>\n",
       "      <td>35</td>\n",
       "      <td>0.0</td>\n",
       "      <td>0</td>\n",
       "    </tr>\n",
       "    <tr>\n",
       "      <th>3</th>\n",
       "      <td>2023-01-04</td>\n",
       "      <td>2757.0</td>\n",
       "      <td>2022</td>\n",
       "      <td>5</td>\n",
       "      <td>Saturday</td>\n",
       "      <td>12</td>\n",
       "      <td>December</td>\n",
       "      <td>31</td>\n",
       "      <td>23</td>\n",
       "      <td>False</td>\n",
       "      <td>...</td>\n",
       "      <td>998.7</td>\n",
       "      <td>13.7</td>\n",
       "      <td>0</td>\n",
       "      <td>21</td>\n",
       "      <td>0</td>\n",
       "      <td>260</td>\n",
       "      <td>0</td>\n",
       "      <td>34</td>\n",
       "      <td>0.5</td>\n",
       "      <td>0</td>\n",
       "    </tr>\n",
       "    <tr>\n",
       "      <th>4</th>\n",
       "      <td>2023-01-05</td>\n",
       "      <td>2811.0</td>\n",
       "      <td>2022</td>\n",
       "      <td>5</td>\n",
       "      <td>Saturday</td>\n",
       "      <td>12</td>\n",
       "      <td>December</td>\n",
       "      <td>31</td>\n",
       "      <td>23</td>\n",
       "      <td>False</td>\n",
       "      <td>...</td>\n",
       "      <td>1000.5</td>\n",
       "      <td>10.3</td>\n",
       "      <td>0</td>\n",
       "      <td>19</td>\n",
       "      <td>0</td>\n",
       "      <td>190</td>\n",
       "      <td>0</td>\n",
       "      <td>29</td>\n",
       "      <td>0.0</td>\n",
       "      <td>0</td>\n",
       "    </tr>\n",
       "  </tbody>\n",
       "</table>\n",
       "<p>5 rows × 27 columns</p>\n",
       "</div>"
      ],
      "text/plain": [
       "        date  num_rentals  year  day_of_week day_of_week_name  month  \\\n",
       "0 2023-01-01       1122.0  2022            5         Saturday     12   \n",
       "1 2023-01-02       1413.0  2022            5         Saturday     12   \n",
       "2 2023-01-03       2555.0  2022            5         Saturday     12   \n",
       "3 2023-01-04       2757.0  2022            5         Saturday     12   \n",
       "4 2023-01-05       2811.0  2022            5         Saturday     12   \n",
       "\n",
       "  month_name  day_of_month  hour_of_day  is_weekend  ...     cbl  wdsp  ind.3  \\\n",
       "0   December            31           23        True  ...   991.5   5.5      0   \n",
       "1   December            31           23       False  ...  1002.6   6.2      0   \n",
       "2   December            31           23       False  ...   996.3  12.5      0   \n",
       "3   December            31           23       False  ...   998.7  13.7      0   \n",
       "4   December            31           23       False  ...  1000.5  10.3      0   \n",
       "\n",
       "   hm  ind.4  ddhm  ind.5  hg  sun  dos  \n",
       "0  11      0   280      0  18  0.2    0  \n",
       "1  14      0   160      0  20  6.8    0  \n",
       "2  19      0   240      0  35  0.0    0  \n",
       "3  21      0   260      0  34  0.5    0  \n",
       "4  19      0   190      0  29  0.0    0  \n",
       "\n",
       "[5 rows x 27 columns]"
      ]
     },
     "execution_count": 105,
     "metadata": {},
     "output_type": "execute_result"
    }
   ],
   "source": [
    "final_df.head()"
   ]
  },
  {
   "cell_type": "code",
   "execution_count": 106,
   "id": "55c9b104",
   "metadata": {},
   "outputs": [
    {
     "name": "stdout",
     "output_type": "stream",
     "text": [
      "<class 'pandas.core.frame.DataFrame'>\n",
      "RangeIndex: 364 entries, 0 to 363\n",
      "Data columns (total 27 columns):\n",
      " #   Column            Non-Null Count  Dtype         \n",
      "---  ------            --------------  -----         \n",
      " 0   date              364 non-null    datetime64[ns]\n",
      " 1   num_rentals       364 non-null    float64       \n",
      " 2   year              364 non-null    int32         \n",
      " 3   day_of_week       364 non-null    int32         \n",
      " 4   day_of_week_name  364 non-null    object        \n",
      " 5   month             364 non-null    int32         \n",
      " 6   month_name        364 non-null    object        \n",
      " 7   day_of_month      364 non-null    int32         \n",
      " 8   hour_of_day       364 non-null    int32         \n",
      " 9   is_weekend        364 non-null    bool          \n",
      " 10  is_weekday        364 non-null    bool          \n",
      " 11  maxtp             364 non-null    float64       \n",
      " 12  ind.1             364 non-null    int64         \n",
      " 13  mintp             364 non-null    float64       \n",
      " 14  igmin             364 non-null    int64         \n",
      " 15  ind.2             364 non-null    int64         \n",
      " 16  rain              364 non-null    float64       \n",
      " 17  cbl               364 non-null    float64       \n",
      " 18  wdsp              364 non-null    float64       \n",
      " 19  ind.3             364 non-null    int64         \n",
      " 20  hm                364 non-null    object        \n",
      " 21  ind.4             364 non-null    int64         \n",
      " 22  ddhm              364 non-null    object        \n",
      " 23  ind.5             364 non-null    int64         \n",
      " 24  hg                364 non-null    object        \n",
      " 25  sun               364 non-null    float64       \n",
      " 26  dos               364 non-null    object        \n",
      "dtypes: bool(2), datetime64[ns](1), float64(7), int32(5), int64(6), object(6)\n",
      "memory usage: 64.8+ KB\n"
     ]
    }
   ],
   "source": [
    "final_df.info()  ##quick check that anomolies weren't introduced as a result of the merge"
   ]
  },
  {
   "cell_type": "code",
   "execution_count": 109,
   "id": "94913ff9",
   "metadata": {},
   "outputs": [],
   "source": [
    "file_path = \"C:\\\\Users\\\\T\\\\Documents\\MSC semester 2\\\\Big project 1\\\\final_df.csv\"  # Specify the file name or path\n",
    "final_df.to_csv(file_path, index=False)  # Set index=False to exclude the DataFrame index"
   ]
  },
  {
   "cell_type": "markdown",
   "id": "7d73ca6e",
   "metadata": {},
   "source": [
    "# Section 2 Statistics"
   ]
  },
  {
   "cell_type": "markdown",
   "id": "42fe89d0",
   "metadata": {},
   "source": [
    "# Section2 .1Descriptive statistics \n",
    "\n",
    "#going to do some descriptive statistics on the Final df"
   ]
  },
  {
   "cell_type": "code",
   "execution_count": null,
   "id": "7d2484ca",
   "metadata": {},
   "outputs": [],
   "source": [
    "final_df.describe()  \n",
    "##good to see the spread of data for each column , will let me know if I need to scale data before using machine learning models"
   ]
  },
  {
   "cell_type": "code",
   "execution_count": null,
   "id": "7988a800",
   "metadata": {},
   "outputs": [],
   "source": [
    "##the mean and median for the rain column are very different with the mean 2.745604 and median 0.400000"
   ]
  },
  {
   "cell_type": "code",
   "execution_count": null,
   "id": "df490a8e",
   "metadata": {},
   "outputs": [],
   "source": [
    "sns.boxplot(x=final_df[\"rain\"])  ##confirmed outliers in rain"
   ]
  },
  {
   "cell_type": "code",
   "execution_count": null,
   "id": "b42e71d7",
   "metadata": {},
   "outputs": [],
   "source": [
    "sns.boxplot(x=final_df[\"num_rentals\"]) ###I would expect that there would be some outliers with some very low rental numbers due to the outliers with days of excessive rain "
   ]
  },
  {
   "cell_type": "code",
   "execution_count": null,
   "id": "e959bc00",
   "metadata": {},
   "outputs": [],
   "source": [
    "####Regularized models like Ridge and Lasso Regression can help manage skewness by penalizing large coefficients, which might otherwise get exaggerated due to skewed features."
   ]
  },
  {
   "cell_type": "markdown",
   "id": "efe8ea7f",
   "metadata": {},
   "source": [
    "# Section 2.2 Inferential Statistics"
   ]
  },
  {
   "cell_type": "markdown",
   "id": "1ec74c86",
   "metadata": {},
   "source": [
    "# Poisson Distribution "
   ]
  },
  {
   "cell_type": "code",
   "execution_count": null,
   "id": "bcbeae7a",
   "metadata": {},
   "outputs": [],
   "source": [
    "from scipy.stats import poisson"
   ]
  },
  {
   "cell_type": "code",
   "execution_count": null,
   "id": "b51e15db",
   "metadata": {},
   "outputs": [],
   "source": [
    "df.describe()"
   ]
  },
  {
   "cell_type": "code",
   "execution_count": null,
   "id": "4606f631",
   "metadata": {},
   "outputs": [],
   "source": [
    "##whats the probability of getting an available bike in dublin any day\n",
    "\n",
    "poisson.sf(k = 1, mu = 1.170346e+01)\n"
   ]
  },
  {
   "cell_type": "code",
   "execution_count": null,
   "id": "f4e13a88",
   "metadata": {},
   "outputs": [],
   "source": [
    "dft.describe()"
   ]
  },
  {
   "cell_type": "markdown",
   "id": "00fa7ef1",
   "metadata": {},
   "source": [
    "# T Test "
   ]
  },
  {
   "cell_type": "code",
   "execution_count": null,
   "id": "9a3f8c29",
   "metadata": {},
   "outputs": [],
   "source": [
    "###I will attempt to determin if the mean trip duration is the same for weekdays and weekends\n",
    "\n"
   ]
  },
  {
   "cell_type": "code",
   "execution_count": null,
   "id": "f93de77b",
   "metadata": {},
   "outputs": [],
   "source": [
    "###extracting weekend columns to analyse\n",
    "dft['day_of_week_name'] = dft['Start Time'].dt.day_name()\n",
    "dft['month_name'] = dft['Start Time'].dt.month_name()\n",
    "dft['is_weekend'] = dft['Start Time'].dt.day_name().isin(['Saturday', 'Sunday'])\n",
    "dft.head()"
   ]
  },
  {
   "cell_type": "code",
   "execution_count": null,
   "id": "0fc602f1",
   "metadata": {},
   "outputs": [],
   "source": [
    "dft = dft.rename(columns={\"trip_duration\": \"trip\"})"
   ]
  },
  {
   "cell_type": "code",
   "execution_count": null,
   "id": "5bc99c1d",
   "metadata": {},
   "outputs": [],
   "source": [
    "##will extract weekday from the dataset and trip duration\n",
    "weekday_trips = dft[dft['is_weekend'] == False]['trip']\n",
    "\n",
    "###selecting for trip duration \n",
    "weekend_trips = dft[dft['is_weekend'] == True]['trip']\n",
    "\n",
    "###t - test\n",
    "t_stat, p_value = stats.ttest_ind(weekday_trips, weekend_trips, equal_var=False)\n",
    "\n",
    "print(f\"T-statistic: {t_stat}\")\n",
    "print(f\"P-value: {p_value}\")\n"
   ]
  },
  {
   "cell_type": "markdown",
   "id": "7cdd50a9",
   "metadata": {},
   "source": [
    "# Attempting to find similarities between other countries and Ireland.\n"
   ]
  },
  {
   "cell_type": "markdown",
   "id": "1fc96922",
   "metadata": {},
   "source": [
    "# T test independent "
   ]
  },
  {
   "cell_type": "code",
   "execution_count": null,
   "id": "8a098470",
   "metadata": {},
   "outputs": [],
   "source": [
    "##comparing the number of rentals between Dublin city and Toronto city\n",
    "\n",
    "##t-test are robust to non normality datasets if it is large enough \n",
    "t_stat, p_value = ttest_ind(df_daily['num_rentals'], dft_daily['trip_id'])\n",
    "print(f\"T-statistic: {t_stat}, p-value: {p_value}\")\n",
    "\n",
    "###low p value meaning"
   ]
  },
  {
   "cell_type": "markdown",
   "id": "2a06141a",
   "metadata": {},
   "source": [
    "# Kruskal Wallis test "
   ]
  },
  {
   "cell_type": "code",
   "execution_count": null,
   "id": "360f8416",
   "metadata": {},
   "outputs": [],
   "source": [
    "#Step 1: Hypothesis\n",
    "\n",
    "#H0: there is no difference in the level of rentals between the three cities\n",
    "#H1: there is at least one city that presents a different level of rentals\n",
    "\n",
    "#Step 2: we create the variables\n",
    "\n",
    "D = df_daily['num_rentals']\n",
    "T = dft_daily['trip_id']\n",
    "L = dfla_daily['trip_id']"
   ]
  },
  {
   "cell_type": "code",
   "execution_count": null,
   "id": "d26819d1",
   "metadata": {},
   "outputs": [],
   "source": [
    "from scipy.stats import kruskal"
   ]
  },
  {
   "cell_type": "code",
   "execution_count": null,
   "id": "381f84e9",
   "metadata": {},
   "outputs": [],
   "source": [
    "stat, p = kruskal(D, T, L)## comparing different p values with alpha\n",
    "\n",
    "print('Statistical Test:', stat)\n",
    "print(\"p-value:\", p)"
   ]
  },
  {
   "cell_type": "markdown",
   "id": "4e8cef19",
   "metadata": {},
   "source": [
    "# U-Mann Whitman Test "
   ]
  },
  {
   "cell_type": "code",
   "execution_count": null,
   "id": "da75a636",
   "metadata": {},
   "outputs": [],
   "source": [
    "#Step 1: Hypothesis\n",
    "#H0: there is no difference between the expenses level in Adm and Makt department\n",
    "#H1: the expenses between Adm and Mkt are different\n",
    "\n",
    "#Step 2: Creating the variables (we already created this before)\n",
    "\n",
    "#Step 3: Test"
   ]
  },
  {
   "cell_type": "code",
   "execution_count": null,
   "id": "ace52a68",
   "metadata": {},
   "outputs": [],
   "source": [
    "from scipy.stats import mannwhitneyu\n"
   ]
  },
  {
   "cell_type": "code",
   "execution_count": null,
   "id": "a148f347",
   "metadata": {},
   "outputs": [],
   "source": [
    "stat, p = mannwhitneyu(D, T)\n",
    "print('Statistical Test:', stat)\n",
    "print(\"p-value:\", p)"
   ]
  },
  {
   "cell_type": "markdown",
   "id": "643500a3",
   "metadata": {},
   "source": [
    "# spearman correlation "
   ]
  },
  {
   "cell_type": "code",
   "execution_count": null,
   "id": "e64f2bd3",
   "metadata": {},
   "outputs": [],
   "source": [
    "from scipy.stats import spearmanr"
   ]
  },
  {
   "cell_type": "code",
   "execution_count": null,
   "id": "415acd40",
   "metadata": {},
   "outputs": [],
   "source": [
    "DS =D.head(31)  ##DS for D sample"
   ]
  },
  {
   "cell_type": "code",
   "execution_count": null,
   "id": "fe6038e4",
   "metadata": {},
   "outputs": [],
   "source": [
    "spearman_corr, p_value = spearmanr(DS, T)\n",
    "\n",
    "print(f\"Spearman Correlation: {spearman_corr}\")\n",
    "print(f\"P-value: {p_value}\")"
   ]
  },
  {
   "cell_type": "markdown",
   "id": "6229ffac",
   "metadata": {},
   "source": [
    "# Section 3 Machine learning "
   ]
  },
  {
   "cell_type": "code",
   "execution_count": null,
   "id": "b8bcf3b0",
   "metadata": {},
   "outputs": [],
   "source": [
    "df.describe() ##checking the distribution of values "
   ]
  },
  {
   "cell_type": "code",
   "execution_count": null,
   "id": "f021a751",
   "metadata": {},
   "outputs": [],
   "source": [
    "final_df.head()"
   ]
  },
  {
   "cell_type": "code",
   "execution_count": null,
   "id": "f7d68ea5",
   "metadata": {},
   "outputs": [],
   "source": [
    "###extracting extra columns to work with\n",
    "df_dailyt['day_of_week_name'] = df_dailyt['date'].dt.day_name()\n",
    "df_dailyt['month_name'] = df_dailyt['date'].dt.month_name()\n",
    "df_dailyt['is_weekend'] = df_dailyt['date'].dt.day_name().isin(['Saturday', 'Sunday'])\n",
    "df_dailyt.head()"
   ]
  },
  {
   "cell_type": "code",
   "execution_count": null,
   "id": "93edf750",
   "metadata": {
    "scrolled": true
   },
   "outputs": [],
   "source": [
    "#pip install xgboost"
   ]
  },
  {
   "cell_type": "code",
   "execution_count": null,
   "id": "a3e1aa12",
   "metadata": {},
   "outputs": [],
   "source": [
    "from sklearn.model_selection import RandomizedSearchCV, GridSearchCV, train_test_split\n",
    "from sklearn.ensemble import RandomForestRegressor, RandomForestClassifier\n",
    "import xgboost as xgb\n",
    "from sklearn.preprocessing import OneHotEncoder##to make categorical variables available for ML models\n",
    "import random##required for random.seed which allows the same randomisation \n",
    "from sklearn.metrics import classification_report, confusion_matrix, accuracy_score, mean_squared_error, r2_score, roc_auc_score, precision_recall_curve\n",
    "import matplotlib.pyplot as plt\n"
   ]
  },
  {
   "cell_type": "code",
   "execution_count": null,
   "id": "672b83d8",
   "metadata": {},
   "outputs": [],
   "source": [
    "##will transform day of week and month into numeric format \n",
    "#that can be used to work with ML models\n",
    "\n",
    "cat_cols = ['day_of_week_name', 'month_name'] \n",
    "cat_subset = df_dailyt[cat_cols]\n",
    "\n",
    "encoder = OneHotEncoder(sparse=False)\n",
    "encoded = encoder.fit_transform(cat_subset)\n",
    "df_encoded = pd.DataFrame(encoded, columns=encoder.get_feature_names_out(cat_cols))\n",
    "\n",
    "one_hot_df = pd.concat([df_dailyt, df_encoded], axis=1)\n",
    "one_hot_df.drop(columns=cat_cols+['date'], inplace=True)\n",
    "one_hot_df.head()"
   ]
  },
  {
   "cell_type": "code",
   "execution_count": null,
   "id": "cae08096",
   "metadata": {},
   "outputs": [],
   "source": [
    "X_train, X_test, y_train, y_test = train_test_split(one_hot_df.drop(columns=['num_rentals']), one_hot_df['num_rentals'], test_size=0.2, random_state=42)"
   ]
  },
  {
   "cell_type": "code",
   "execution_count": null,
   "id": "059c7f9c",
   "metadata": {},
   "outputs": [],
   "source": [
    "random.seed(42)\n",
    "\n",
    "rf_params = {'max_depth': [3, 5, 10, 20, None], 'n_estimators': [50, 100, 200], 'max_features': ['sqrt', None]}\n",
    "xgb_params = {'learning_rate': [0.01, 0.1, 0.2], 'n_estimators': [50, 100, 200], 'max_depth': [3, 6, 9]}\n",
    "\n",
    "models = {\n",
    "    'RandomForest': GridSearchCV(RandomForestRegressor(n_jobs=-1), param_grid=rf_params).fit(X_train, y_train).best_estimator_,\n",
    "    'XGB': GridSearchCV(xgb.XGBRegressor(n_jobs=-1), param_grid=xgb_params).fit(X_train, y_train).best_estimator_\n",
    "    \n",
    "}\n",
    "\n"
   ]
  },
  {
   "cell_type": "code",
   "execution_count": null,
   "id": "d6c43802",
   "metadata": {
    "scrolled": true
   },
   "outputs": [],
   "source": [
    "#results_df = pd.DataFrame(columns=['model', 'mse', 'r2'])\n",
    "\n",
    "#for name, model in models.items():\n",
    "    y_pred = model.predict(X_test)\n",
    "    mse = mean_squared_error(y_test, y_pred)\n",
    "    r2 = r2_score(y_test, y_pred)\n",
    "    results_dict = {\n",
    "            'model': name,\n",
    "            'mse': mse,\n",
    "            'r2': r2\n",
    "        }\n",
    "#results_df = pd.concat([results_df, pd.DataFrame.from_records([results_dict])], ignore_index=True)\n",
    "\n",
    "#results_df"
   ]
  },
  {
   "cell_type": "code",
   "execution_count": null,
   "id": "c926fa8d",
   "metadata": {},
   "outputs": [],
   "source": [
    "results_list = []"
   ]
  },
  {
   "cell_type": "code",
   "execution_count": null,
   "id": "2add52e1",
   "metadata": {},
   "outputs": [],
   "source": [
    "for name, model in models.items():\n",
    "    try:\n",
    "        y_pred = model.predict(X_test)\n",
    "        mse = mean_squared_error(y_test, y_pred)\n",
    "        r2 = r2_score(y_test, y_pred)\n",
    "        results_dict = {\n",
    "                'model': name,\n",
    "                'mse': mse,\n",
    "                'r2': r2\n",
    "            }\n",
    "        # Append the dictionary to the results list\n",
    "        results_list.append(results_dict)\n",
    "    except Exception as e:\n",
    "        print(f\"Error processing model {name}: {e}\")\n",
    "\n",
    "# Convert the results list to a DataFrame\n",
    "results_df = pd.DataFrame(results_list, columns=['model', 'mse', 'r2'])\n",
    "\n",
    "print(results_df)"
   ]
  },
  {
   "cell_type": "markdown",
   "id": "6381b9a6",
   "metadata": {},
   "source": [
    "initialize a List: Use a list to store the results dictionaries.\n",
    "Try-Except Block: Wrap the model processing code in a try-except block to catch any errors that may occur during model prediction, ensuring that one failing model doesn’t stop the entire loop.\n",
    "Append Results: Append each results dictionary to the list.\n",
    "Convert to DataFrame: After the loop, convert the list of dictionaries to a DataFrame.\n",
    "This approach avoids the use of pd.concat in a loop and ensures that all models are processed and their results are stored, even if an error occurs with one of the models."
   ]
  },
  {
   "cell_type": "code",
   "execution_count": null,
   "id": "af4a303e",
   "metadata": {},
   "outputs": [],
   "source": [
    "fig, axes = plt.subplots(nrows=2, ncols=1, figsize=(10, 12))\n",
    "\n",
    "sns.barplot(ax=axes[0], data=results_df, x='model', y='mse', width=0.2, edgecolor='black', fill=None)\n",
    "axes[0].set_title('MSE Comparison')\n",
    "axes[0].set_ylabel('MSE')\n",
    "axes[0].set_ylim(np.min(results_df['mse']) - np.min(results_df['mse'])*0.1, np.max(results_df['mse']) + np.max(results_df['mse'])*0.1) \n",
    "\n",
    "sns.barplot(ax=axes[1], data=results_df, x='model', y='r2', width=0.2, edgecolor='black', fill=None)\n",
    "axes[1].set_title('R-squared Comparison')\n",
    "axes[1].set_ylabel('R-squared')\n",
    "axes[1].set_ylim(np.min(results_df['r2']) - np.min(results_df['r2'])*0.1, np.max(results_df['r2']) + np.max(results_df['r2'])*0.1) \n",
    "\n",
    "plt.tight_layout()\n",
    "plt.savefig(chart_folder / 'daily_prediction_comparison.png')\n",
    "plt.show();"
   ]
  },
  {
   "cell_type": "markdown",
   "id": "8b6c2598",
   "metadata": {},
   "source": [
    "XGB minimises the R2 value and maximises the MSE so deemed to be the superior model"
   ]
  },
  {
   "cell_type": "code",
   "execution_count": null,
   "id": "be30fa0e",
   "metadata": {
    "scrolled": false
   },
   "outputs": [],
   "source": [
    "x = xgb.plot_importance(models['XGB'], color='black')\n",
    "plt.tight_layout();"
   ]
  },
  {
   "cell_type": "code",
   "execution_count": null,
   "id": "642037b5",
   "metadata": {},
   "outputs": [],
   "source": []
  },
  {
   "cell_type": "markdown",
   "id": "67bf79de",
   "metadata": {},
   "source": [
    "# Section 3.1 Unsupervised Machine Learning"
   ]
  },
  {
   "cell_type": "code",
   "execution_count": null,
   "id": "86f6a671",
   "metadata": {},
   "outputs": [],
   "source": [
    "frequency = df[['NAME', 'num_bikes_change']]"
   ]
  },
  {
   "cell_type": "code",
   "execution_count": null,
   "id": "52c40df4",
   "metadata": {},
   "outputs": [],
   "source": [
    "# Getting the count of orders made by each customer based on customer ID.\n",
    "k = frequency.groupby(\"NAME\").num_bikes_change.sum()##frequency by counting the invoice number\n",
    "k = pd.DataFrame(k)\n",
    "k = k.reset_index()\n",
    "k.columns = [\"NAME\", \"Frequency\"]\n",
    "k.head()"
   ]
  },
  {
   "cell_type": "code",
   "execution_count": null,
   "id": "c5c2dbc9",
   "metadata": {},
   "outputs": [],
   "source": [
    "recency  = df[['NAME','last_reported']]\n",
    "maximum = max(recency.last_reported)"
   ]
  },
  {
   "cell_type": "code",
   "execution_count": null,
   "id": "c4196671",
   "metadata": {},
   "outputs": [],
   "source": [
    "\n",
    "# Adding one more day to the max data, so that the max date will have 1 as the difference and not zero.\n",
    "maximum = maximum + pd.DateOffset(days=1)\n",
    "recency['diff'] = maximum - recency.last_reported\n",
    "recency.head()"
   ]
  },
  {
   "cell_type": "code",
   "execution_count": null,
   "id": "5527a205",
   "metadata": {},
   "outputs": [],
   "source": [
    " #recency by customerid\n",
    "a = recency.groupby('NAME')"
   ]
  },
  {
   "cell_type": "code",
   "execution_count": null,
   "id": "cd2461f2",
   "metadata": {},
   "outputs": [],
   "source": [
    "# Calculate the minimum 'diff' for each 'CustomerID' group\n",
    "a = recency.groupby('NAME')['diff'].min().reset_index()\n",
    "\n",
    "# Create a DataFrame for recency by customer\n",
    "dfr = pd.DataFrame(a)\n",
    "dfr.columns = [\"NAME\", \"Recency\"]\n",
    "dfr.head()\n"
   ]
  },
  {
   "cell_type": "code",
   "execution_count": null,
   "id": "f5113b6d",
   "metadata": {},
   "outputs": [],
   "source": [
    "#Combining all recency, frequency and monetary parameters\n",
    "\n",
    "RFM = k.merge(dfr, on = \"NAME\")\n",
    "RFM.head(20)"
   ]
  },
  {
   "cell_type": "code",
   "execution_count": null,
   "id": "91bb6435",
   "metadata": {},
   "outputs": [],
   "source": [
    "# standardise all parameters\n",
    "RFM_norm1 = RFM.drop(\"NAME\", axis=1)\n",
    "RFM_norm1.Recency = RFM_norm1.Recency.dt.days ##this will extract only the days\n",
    "\n",
    "from sklearn.preprocessing import StandardScaler\n",
    "standard_scaler = StandardScaler()\n",
    "RFM_norm1 = standard_scaler.fit_transform(RFM_norm1)"
   ]
  },
  {
   "cell_type": "code",
   "execution_count": null,
   "id": "b661f754",
   "metadata": {},
   "outputs": [],
   "source": [
    "RFM_norm1 = pd.DataFrame(RFM_norm1)\n",
    "RFM_norm1.columns = ['Frequency','Recency']\n",
    "RFM_norm1.head()"
   ]
  },
  {
   "cell_type": "code",
   "execution_count": null,
   "id": "3bfad9a4",
   "metadata": {},
   "outputs": [],
   "source": [
    "# To perform KMeans clustering \n",
    "from sklearn.cluster import KMeans\n",
    "\n",
    "import warnings\n",
    "warnings.filterwarnings(\"ignore\")\n",
    "import matplotlib.pyplot as plt"
   ]
  },
  {
   "cell_type": "code",
   "execution_count": null,
   "id": "ec540dd4",
   "metadata": {},
   "outputs": [],
   "source": [
    "from sklearn.metrics import silhouette_score\n",
    "sse_ = []\n",
    "for k in range(2, 15):\n",
    "    kmeans = KMeans(n_clusters=k).fit(RFM_norm1)\n",
    "    sse_.append([k, silhouette_score(RFM_norm1, kmeans.labels_)])"
   ]
  },
  {
   "cell_type": "code",
   "execution_count": null,
   "id": "4711828b",
   "metadata": {},
   "outputs": [],
   "source": [
    "plt.plot(pd.DataFrame(sse_)[0], pd.DataFrame(sse_)[1]);"
   ]
  },
  {
   "cell_type": "code",
   "execution_count": null,
   "id": "e8d7c28b",
   "metadata": {},
   "outputs": [],
   "source": [
    "# sum of squared distances  ##elbow method si same as gridsearch cv\n",
    "ssd = []\n",
    "for num_clusters in list(range(1,11)):\n",
    "    model_clus = KMeans(n_clusters = num_clusters, max_iter=50)\n",
    "    model_clus.fit(RFM_norm1)\n",
    "    ssd.append(model_clus.inertia_)\n",
    "\n",
    "plt.plot(ssd)\n",
    "\n",
    "##the values on the side are the ineritia accuracy values\n",
    "\n",
    "##too many clusters result in overfitted model"
   ]
  },
  {
   "cell_type": "code",
   "execution_count": null,
   "id": "37e8b3d6",
   "metadata": {},
   "outputs": [],
   "source": [
    "# Kmeans with K=2  \n",
    "model_clus2 = KMeans(n_clusters = 2, max_iter=50)\n",
    "model_clus2.fit(RFM_norm1)"
   ]
  },
  {
   "cell_type": "code",
   "execution_count": null,
   "id": "70e6aafb",
   "metadata": {},
   "outputs": [],
   "source": [
    "# analysis of clusters formed\n",
    "RFM.index = pd.RangeIndex(len(RFM.index))\n",
    "RFM_km = pd.concat([RFM, pd.Series(model_clus2.labels_)], axis=1)\n",
    "RFM_km.columns = ['NAME', 'Frequency', 'Recency', 'ClusterID']\n",
    "\n",
    "RFM_km.Recency = RFM_km.Recency.dt.days\n",
    "km_clusters_frequency = pd.DataFrame(RFM_km.groupby([\"ClusterID\"]).Frequency.mean())\n",
    "km_clusters_recency = pd.DataFrame(RFM_km.groupby([\"ClusterID\"]).Recency.mean())"
   ]
  },
  {
   "cell_type": "code",
   "execution_count": null,
   "id": "f98b2095",
   "metadata": {},
   "outputs": [],
   "source": [
    "dfcluster = pd.concat([pd.Series([0,1,2,3]),km_clusters_frequency, km_clusters_recency], axis=1)\n",
    "dfcluster.columns = [\"ClusterID\", \"Frequency_mean\", \"Recency_mean\"]\n",
    "dfcluster.head()"
   ]
  },
  {
   "cell_type": "code",
   "execution_count": null,
   "id": "9e727506",
   "metadata": {},
   "outputs": [],
   "source": [
    "sns.barplot(x=dfcluster.ClusterID, y=dfcluster.Frequency_mean)"
   ]
  },
  {
   "cell_type": "code",
   "execution_count": null,
   "id": "7ace6fbe",
   "metadata": {},
   "outputs": [],
   "source": [
    "sns.barplot(x=dfcluster.ClusterID, y=dfcluster.Recency_mean)"
   ]
  },
  {
   "cell_type": "markdown",
   "id": "8b653d9e",
   "metadata": {},
   "source": [
    "# Section 3.2 Sentiment Analysis for Dublin Bikes "
   ]
  },
  {
   "cell_type": "code",
   "execution_count": null,
   "id": "c4c65283",
   "metadata": {},
   "outputs": [],
   "source": [
    "from requests.auth import HTTPBasicAuth\n",
    "import json\n",
    "import yaml"
   ]
  },
  {
   "cell_type": "code",
   "execution_count": null,
   "id": "21956053",
   "metadata": {
    "scrolled": true
   },
   "outputs": [],
   "source": [
    "#pip install praw nltk vaderSentiment"
   ]
  },
  {
   "cell_type": "code",
   "execution_count": null,
   "id": "9bbd1895",
   "metadata": {},
   "outputs": [],
   "source": [
    "import praw"
   ]
  },
  {
   "cell_type": "code",
   "execution_count": null,
   "id": "528965e2",
   "metadata": {},
   "outputs": [],
   "source": [
    "# Initialize the Reddit API client\n",
    "reddit = praw.Reddit(client_id='wLtMrxRbFQ8zRuyduBEppA',\n",
    "                     client_secret='S_5XHK9uscspDlR8SUNcF2bjM4TP8A',\n",
    "                     user_agent='Dublin')\n",
    "\n",
    "# Function to extract comments from a specific subreddit\n",
    "def extract_comments(subreddit_name, search_query, limit=100):\n",
    "    subreddit = reddit.subreddit(subreddit_name)\n",
    "    comments_data = []\n",
    "\n",
    "    for submission in subreddit.search(search_query, limit=limit):\n",
    "        submission.comments.replace_more(limit=0)\n",
    "        for comment in submission.comments.list():\n",
    "            comments_data.append(comment.body)\n",
    "\n",
    "    return comments_data\n",
    "\n",
    "# Extract comments related to Dublin cycling reviews\n",
    "comments = extract_comments('dublin', 'cycling', limit=100)\n",
    "dfreview = pd.DataFrame(comments, columns=['comment'])"
   ]
  },
  {
   "cell_type": "code",
   "execution_count": null,
   "id": "096c2686",
   "metadata": {},
   "outputs": [],
   "source": [
    "dfreview.tail()"
   ]
  },
  {
   "cell_type": "code",
   "execution_count": null,
   "id": "f02e4d9f",
   "metadata": {},
   "outputs": [],
   "source": [
    "from vaderSentiment.vaderSentiment import SentimentIntensityAnalyzer\n",
    "\n",
    "# Initialize the VADER sentiment analyzer\n",
    "analyzer = SentimentIntensityAnalyzer()\n",
    "\n",
    "# Function to analyze sentiment\n",
    "def analyze_sentiment(comment):\n",
    "    sentiment = analyzer.polarity_scores(comment)\n",
    "    return sentiment\n",
    "\n",
    "# Apply sentiment analysis to each comment\n",
    "dfreview['sentiment'] = dfreview['comment'].apply(analyze_sentiment)\n",
    "\n",
    "# Extract compound sentiment score for simplicity\n",
    "dfreview['compound'] = dfreview['sentiment'].apply(lambda x: x['compound'])\n",
    "\n",
    "# Classify sentiment as positive, negative, or neutral\n",
    "dfreview['sentiment_label'] = dfreview['compound'].apply(lambda score: 'positive' if score > 0.05 else ('negative' if score < -0.05 else 'neutral'))\n",
    "\n",
    "# Display the dataframe with sentiment labels\n",
    "print(dfreview.head())"
   ]
  },
  {
   "cell_type": "code",
   "execution_count": null,
   "id": "ec37d3ee",
   "metadata": {},
   "outputs": [],
   "source": [
    "dfreview.head()"
   ]
  },
  {
   "cell_type": "code",
   "execution_count": null,
   "id": "35557aa3",
   "metadata": {},
   "outputs": [],
   "source": [
    "sns.set_style('whitegrid')\n",
    "sns.countplot(x='sentiment_label',data=dfreview, palette='YlGnBu_r')"
   ]
  },
  {
   "cell_type": "markdown",
   "id": "6968b09a",
   "metadata": {},
   "source": [
    "# Toronto sentiment "
   ]
  },
  {
   "cell_type": "code",
   "execution_count": null,
   "id": "71eefd3d",
   "metadata": {},
   "outputs": [],
   "source": [
    "# Initialize the Reddit API client\n",
    "reddittoronto = praw.Reddit(client_id='wLtMrxRbFQ8zRuyduBEppA',\n",
    "                     client_secret='S_5XHK9uscspDlR8SUNcF2bjM4TP8A',\n",
    "                     user_agent='Dublin')\n",
    "\n",
    "# Function to extract comments from a specific subreddit\n",
    "def extract_comments(torontobiking, search_query, limit=100):\n",
    "    subreddit = reddit.subreddit(torontobiking)\n",
    "    comments_data = []\n",
    "\n",
    "    for submission in subreddit.search(search_query, limit=limit):\n",
    "        submission.comments.replace_more(limit=0)\n",
    "        for comment in submission.comments.list():\n",
    "            comments_data.append(comment.body)\n",
    "\n",
    "    return comments_data\n",
    "\n",
    "# Extract comments related to Dublin cycling reviews\n",
    "comments = extract_comments('toronto', 'biking', limit=100)\n",
    "dftreview = pd.DataFrame(comments, columns=['comment'])"
   ]
  },
  {
   "cell_type": "code",
   "execution_count": null,
   "id": "29fbe73f",
   "metadata": {},
   "outputs": [],
   "source": [
    "sns.set_style('whitegrid')\n",
    "sns.countplot(x='sentiment_label',data=dftreview, palette='YlGnBu_r')"
   ]
  },
  {
   "cell_type": "code",
   "execution_count": null,
   "id": "dd4b83a5",
   "metadata": {},
   "outputs": [],
   "source": [
    "from vaderSentiment.vaderSentiment import SentimentIntensityAnalyzer\n",
    "\n",
    "# Initialize the VADER sentiment analyzer\n",
    "analyzer = SentimentIntensityAnalyzer()\n",
    "\n",
    "# Function to analyze sentiment\n",
    "def analyze_sentiment(comment):\n",
    "    sentiment = analyzer.polarity_scores(comment)\n",
    "    return sentiment\n",
    "\n",
    "# Apply sentiment analysis to each comment\n",
    "dftreview['sentiment'] = dftreview['comment'].apply(analyze_sentiment)\n",
    "\n",
    "# Extract compound sentiment score for simplicity\n",
    "dftreview['compound'] = dftreview['sentiment'].apply(lambda x: x['compound'])\n",
    "\n",
    "# Classify sentiment as positive, negative, or neutral\n",
    "dftreview['sentiment_label'] = dftreview['compound'].apply(lambda score: 'positive' if score > 0.05 else ('negative' if score < -0.05 else 'neutral'))\n",
    "\n",
    "# Display the dataframe with sentiment labels\n",
    "print(dftreview.head())"
   ]
  },
  {
   "cell_type": "markdown",
   "id": "b6a974e2",
   "metadata": {},
   "source": [
    "# La Biking"
   ]
  },
  {
   "cell_type": "code",
   "execution_count": null,
   "id": "46fa2abb",
   "metadata": {},
   "outputs": [],
   "source": [
    "# Initialize the Reddit API client\n",
    "redditla = praw.Reddit(client_id='wLtMrxRbFQ8zRuyduBEppA',\n",
    "                     client_secret='S_5XHK9uscspDlR8SUNcF2bjM4TP8A',\n",
    "                     user_agent='Dublin')\n",
    "\n",
    "# Function to extract comments from a specific subreddit\n",
    "def extract_comments(LAMetro, Bikeshare, limit=100):\n",
    "    subreddit = reddit.subreddit(LAMetro)\n",
    "    comments_data = []\n",
    "\n",
    "    for submission in subreddit.search(Bikeshare, limit=limit):\n",
    "        submission.comments.replace_more(limit=0)\n",
    "        for comment in submission.comments.list():\n",
    "            comments_data.append(comment.body)\n",
    "\n",
    "    return comments_data\n",
    "\n",
    "# Extract comments related to Dublin cycling reviews\n",
    "comments = extract_comments('cycling', 'Bikeshare', limit=100)\n",
    "dflareview = pd.DataFrame(comments, columns=['comment'])"
   ]
  },
  {
   "cell_type": "code",
   "execution_count": null,
   "id": "2ce076a7",
   "metadata": {},
   "outputs": [],
   "source": [
    "# Initialize the VADER sentiment analyzer\n",
    "analyzer = SentimentIntensityAnalyzer()\n",
    "\n",
    "# Function to analyze sentiment\n",
    "def analyze_sentiment(comment):\n",
    "    sentiment = analyzer.polarity_scores(comment)\n",
    "    return sentiment\n",
    "\n",
    "# Apply sentiment analysis to each comment\n",
    "dflareview['sentiment'] = dflareview['comment'].apply(analyze_sentiment)\n",
    "\n",
    "# Extract compound sentiment score for simplicity\n",
    "dflareview['compound'] = dflareview['sentiment'].apply(lambda x: x['compound'])\n",
    "\n",
    "# Classify sentiment as positive, negative, or neutral\n",
    "dflareview['sentiment_label'] = dflareview['compound'].apply(lambda score: 'positive' if score > 0.05 else ('negative' if score < -0.05 else 'neutral'))\n",
    "\n",
    "# Display the dataframe with sentiment labels\n",
    "print(dflareview.head())"
   ]
  },
  {
   "cell_type": "code",
   "execution_count": null,
   "id": "5a6e0768",
   "metadata": {},
   "outputs": [],
   "source": [
    "sns.set_style('whitegrid')\n",
    "sns.countplot(x='sentiment_label',data=dflareview, palette='YlGnBu_r')"
   ]
  },
  {
   "cell_type": "code",
   "execution_count": null,
   "id": "ea02265b",
   "metadata": {
    "scrolled": true
   },
   "outputs": [],
   "source": [
    "#pip install dash-bootstrap-components"
   ]
  },
  {
   "cell_type": "code",
   "execution_count": 96,
   "id": "98ffc3ee",
   "metadata": {},
   "outputs": [
    {
     "name": "stderr",
     "output_type": "stream",
     "text": [
      "C:\\Users\\T\\AppData\\Local\\Temp\\ipykernel_21412\\3781664287.py:2: UserWarning: \n",
      "The dash_core_components package is deprecated. Please replace\n",
      "`import dash_core_components as dcc` with `from dash import dcc`\n",
      "  import dash_core_components as dcc\n",
      "C:\\Users\\T\\AppData\\Local\\Temp\\ipykernel_21412\\3781664287.py:3: UserWarning: \n",
      "The dash_html_components package is deprecated. Please replace\n",
      "`import dash_html_components as html` with `from dash import html`\n",
      "  import dash_html_components as html\n"
     ]
    }
   ],
   "source": [
    "import dash\n",
    "import dash_core_components as dcc\n",
    "import dash_html_components as html\n",
    "import dash_bootstrap_components as dbc\n",
    "from dash.dependencies import Input, Output\n",
    "import plotly.express as px\n"
   ]
  },
  {
   "cell_type": "code",
   "execution_count": 97,
   "id": "b5fc5a28",
   "metadata": {
    "scrolled": true
   },
   "outputs": [
    {
     "data": {
      "text/html": [
       "\n",
       "        <iframe\n",
       "            width=\"100%\"\n",
       "            height=\"650\"\n",
       "            src=\"http://127.0.0.1:8050/\"\n",
       "            frameborder=\"0\"\n",
       "            allowfullscreen\n",
       "            \n",
       "        ></iframe>\n",
       "        "
      ],
      "text/plain": [
       "<IPython.lib.display.IFrame at 0x19d8200f0d0>"
      ]
     },
     "metadata": {},
     "output_type": "display_data"
    }
   ],
   "source": [
    "\n",
    "# Initialize the Dash app\n",
    "app = dash.Dash(__name__, external_stylesheets=[dbc.themes.BOOTSTRAP])\n",
    "\n",
    "# Layout of the app\n",
    "app.layout = dbc.Container([\n",
    "    dbc.Row([\n",
    "        dbc.Col(html.H1(\"Dublin Bikes Stations Dashboard\"), className=\"mb-2\")\n",
    "    ]),\n",
    "    dbc.Row([\n",
    "        dbc.Col(html.Div([\n",
    "            dcc.Dropdown(\n",
    "                id='station-dropdown',\n",
    "                options=[\n",
    "                    {'label': row['NAME'], 'value': row['station_id']}\n",
    "                    for index, row in df.iterrows()\n",
    "                ],\n",
    "                placeholder=\"Select a station\",\n",
    "                multi=True\n",
    "            )\n",
    "        ]), width=6)\n",
    "    ]),\n",
    "    dbc.Row([\n",
    "        dbc.Col(dcc.Graph(id='map-graph'), width=12)\n",
    "    ])\n",
    "])\n",
    "\n",
    "# Callback to update the map based on selected stations\n",
    "@app.callback(\n",
    "    Output('map-graph', 'figure'),\n",
    "    [Input('station-dropdown', 'value')]\n",
    ")\n",
    "def update_map(selected_stations):\n",
    "    if selected_stations is None or len(selected_stations) == 0:\n",
    "        filtered_df = df1\n",
    "    else:\n",
    "        filtered_df = df1[df1['station_id'].isin(selected_stations)]\n",
    "\n",
    "    fig = px.scatter_mapbox(\n",
    "        filtered_df,\n",
    "        lat=\"LATITUDE\",\n",
    "        lon=\"LONGITUDE\",\n",
    "        hover_name=\"NAME\",\n",
    "        zoom=12,\n",
    "        height=600,\n",
    "        mapbox_style=\"carto-positron\"\n",
    "    )\n",
    "\n",
    "    return fig\n",
    "\n",
    "# Run the app\n",
    "if __name__ == '__main__':\n",
    "    app.run_server(debug=True)"
   ]
  },
  {
   "cell_type": "code",
   "execution_count": null,
   "id": "af951955",
   "metadata": {},
   "outputs": [],
   "source": [
    "df.info()"
   ]
  },
  {
   "cell_type": "markdown",
   "id": "38175640",
   "metadata": {},
   "source": [
    "# Hypothesis testing "
   ]
  },
  {
   "cell_type": "markdown",
   "id": "91169e32",
   "metadata": {},
   "source": [
    "# ttest"
   ]
  },
  {
   "cell_type": "code",
   "execution_count": null,
   "id": "ad6a615d",
   "metadata": {},
   "outputs": [],
   "source": [
    "import scipy.stats as stats\n",
    "from scipy.stats import shapiro"
   ]
  },
  {
   "cell_type": "code",
   "execution_count": null,
   "id": "81031a3a",
   "metadata": {},
   "outputs": [],
   "source": [
    "df_daily.describe()"
   ]
  },
  {
   "cell_type": "code",
   "execution_count": null,
   "id": "3f117225",
   "metadata": {},
   "outputs": [],
   "source": [
    "dft_daily = dft_daily.rename(columns={\"trip_id\": \"num_rentals\"})\n",
    "dfla_daily = dfla_daily.rename(columns={\"trip_id\": \"num_rentals\"})\n"
   ]
  },
  {
   "cell_type": "code",
   "execution_count": null,
   "id": "867837f2",
   "metadata": {},
   "outputs": [],
   "source": [
    "X1 = df_daily['num_rentals']\n",
    "X2 = dfla_daily['num_rentals']"
   ]
  },
  {
   "cell_type": "code",
   "execution_count": null,
   "id": "9bef190e",
   "metadata": {},
   "outputs": [],
   "source": [
    "X1.hist(figsize=(9,6),   # Plot size\n",
    "                   bins=20)  "
   ]
  },
  {
   "cell_type": "code",
   "execution_count": null,
   "id": "8f5fa10a",
   "metadata": {},
   "outputs": [],
   "source": [
    "X2.hist(figsize=(9,6),   # Plot size\n",
    "                   bins=20)"
   ]
  },
  {
   "cell_type": "code",
   "execution_count": null,
   "id": "c04a4a33",
   "metadata": {},
   "outputs": [],
   "source": [
    "stat, p_value = shapiro(X1)"
   ]
  },
  {
   "cell_type": "code",
   "execution_count": null,
   "id": "d8fd3f4c",
   "metadata": {},
   "outputs": [],
   "source": [
    "stat, p_value "
   ]
  },
  {
   "cell_type": "code",
   "execution_count": null,
   "id": "23fdf963",
   "metadata": {},
   "outputs": [],
   "source": [
    "stat, p_value = shapiro(X2)"
   ]
  },
  {
   "cell_type": "code",
   "execution_count": null,
   "id": "fe884478",
   "metadata": {},
   "outputs": [],
   "source": [
    "stat, p_value"
   ]
  },
  {
   "cell_type": "code",
   "execution_count": null,
   "id": "51588a57",
   "metadata": {},
   "outputs": [],
   "source": [
    "df_daily.head()"
   ]
  },
  {
   "cell_type": "code",
   "execution_count": null,
   "id": "88ac4036",
   "metadata": {},
   "outputs": [],
   "source": [
    "X1 = df_daily['num_rentals']\n",
    "X2 = dfla_daily['num_rentals']"
   ]
  },
  {
   "cell_type": "code",
   "execution_count": null,
   "id": "b921ca75",
   "metadata": {},
   "outputs": [],
   "source": [
    "shapiro(X1)"
   ]
  },
  {
   "cell_type": "code",
   "execution_count": null,
   "id": "e6635d18",
   "metadata": {},
   "outputs": [],
   "source": [
    "shapiro(X2)"
   ]
  },
  {
   "cell_type": "code",
   "execution_count": null,
   "id": "e732f9ec",
   "metadata": {},
   "outputs": [],
   "source": [
    "#is the difference in number of rentals statisticaly significant \n",
    "\n",
    "t_test = stats.ttest_ind(X1, X2, equal_var = False)\n",
    "display(t_test)"
   ]
  },
  {
   "cell_type": "markdown",
   "id": "cb055f24",
   "metadata": {},
   "source": [
    "# Feature extraction to get normal columns for parametric tests\n"
   ]
  },
  {
   "cell_type": "code",
   "execution_count": null,
   "id": "83b48ed2",
   "metadata": {},
   "outputs": [],
   "source": [
    "##I tried to extract the average distance from the center point of each area but this did not give normal data for parametric test \n",
    "\n",
    "#I'm going to get the log of the number of rentals "
   ]
  },
  {
   "cell_type": "code",
   "execution_count": null,
   "id": "450b848f",
   "metadata": {},
   "outputs": [],
   "source": [
    "\n"
   ]
  },
  {
   "cell_type": "code",
   "execution_count": null,
   "id": "94de0307",
   "metadata": {},
   "outputs": [],
   "source": []
  },
  {
   "cell_type": "code",
   "execution_count": null,
   "id": "db5e2a7f",
   "metadata": {},
   "outputs": [],
   "source": [
    "#pip install geopy"
   ]
  },
  {
   "cell_type": "code",
   "execution_count": null,
   "id": "deb84c57",
   "metadata": {},
   "outputs": [],
   "source": [
    "from geopy.distance import geodesic"
   ]
  },
  {
   "cell_type": "code",
   "execution_count": null,
   "id": "5ba6b94c",
   "metadata": {},
   "outputs": [],
   "source": [
    "grouped_station_dublin['distance_to_center'] = df.apply(\n",
    "    lambda row: geodesic((row['LATITUDE'], row['LONGITUDE']), city_center).km, axis=1)"
   ]
  },
  {
   "cell_type": "code",
   "execution_count": null,
   "id": "bed5f62a",
   "metadata": {},
   "outputs": [],
   "source": [
    "#Group by unique station name \n",
    "grouped_station_dublin = df.groupby('NAME').agg({'distance_to_center':'max'})"
   ]
  },
  {
   "cell_type": "code",
   "execution_count": null,
   "id": "1e164d3d",
   "metadata": {},
   "outputs": [],
   "source": [
    "##Bring distance to center back as a column not an index\n",
    "grouped_station_dublin.reset_index()"
   ]
  },
  {
   "cell_type": "code",
   "execution_count": null,
   "id": "5c7b65b3",
   "metadata": {},
   "outputs": [],
   "source": [
    "grouped_station_dublin.head(100)"
   ]
  },
  {
   "cell_type": "code",
   "execution_count": null,
   "id": "a0abb9d4",
   "metadata": {},
   "outputs": [],
   "source": [
    "##country coordinate website says the below is considered the center of the city\n",
    "city_center = (53.3498, -6.2603)  \n"
   ]
  },
  {
   "cell_type": "code",
   "execution_count": null,
   "id": "13062af6",
   "metadata": {},
   "outputs": [],
   "source": [
    "grouped_station.head()"
   ]
  },
  {
   "cell_type": "code",
   "execution_count": null,
   "id": "e42d578a",
   "metadata": {},
   "outputs": [],
   "source": [
    "##LA feature extraction \n",
    "dfla.head()"
   ]
  },
  {
   "cell_type": "code",
   "execution_count": null,
   "id": "b27fa45c",
   "metadata": {},
   "outputs": [],
   "source": [
    "##so I can group by start station\n",
    "grouped_stations_LA = dfla.drop_duplicates(subset='start_station', keep='first')\n"
   ]
  },
  {
   "cell_type": "code",
   "execution_count": null,
   "id": "79870370",
   "metadata": {},
   "outputs": [],
   "source": [
    "city_center_la = (34.0522,118.2437)"
   ]
  },
  {
   "cell_type": "code",
   "execution_count": null,
   "id": "4d28c72a",
   "metadata": {},
   "outputs": [],
   "source": [
    "grouped_stations_LA['distance_to_center'] = grouped_stations_LA.apply(\n",
    "    lambda row: geodesic((row['start_lat'], row['start_lon']), city_center_la).km, axis=1)"
   ]
  },
  {
   "cell_type": "code",
   "execution_count": null,
   "id": "70289348",
   "metadata": {},
   "outputs": [],
   "source": [
    "grouped_stations_LA.head()"
   ]
  },
  {
   "cell_type": "code",
   "execution_count": null,
   "id": "5c268267",
   "metadata": {},
   "outputs": [],
   "source": [
    "###I have my data but its time to check if its normal for my parametric tests\n",
    "sampled_la =grouped_stations_LA.sample(n=115, random_state=42)  # Randomly samples 100 rows\n",
    "\n",
    "\n"
   ]
  },
  {
   "cell_type": "code",
   "execution_count": null,
   "id": "2d820849",
   "metadata": {},
   "outputs": [],
   "source": [
    " #Perform Shapiro-Wilk test on distance to center\n",
    "stat, p_value = shapiro(sampled_la['distance_to_center'])\n",
    "\n",
    "print(f\"Shapiro-Wilk Test Statistic: {stat}\")\n",
    "print(f\"P-value: {p_value}\")\n",
    "\n",
    "\n",
    "if p_value > 0.05:\n",
    "    print(\"The data appears to be normally distributed.\")\n",
    "else:\n",
    "    print(\"The data does not appear to be normally distributed.\")"
   ]
  },
  {
   "cell_type": "code",
   "execution_count": null,
   "id": "076aa4f6",
   "metadata": {},
   "outputs": [],
   "source": [
    "#Perform Shapiro-Wilk test on distance to center\n",
    "stat, p_value = shapiro(grouped_station_dublin['distance_to_center'])\n",
    "\n",
    "\n",
    "print(f\"Shapiro-Wilk Test Statistic: {stat}\")\n",
    "print(f\"P-value: {p_value}\")\n",
    "\n",
    "\n",
    "if p_value > 0.05:\n",
    "    print(\"The data appears to be normally distributed.\")\n",
    "else:\n",
    "    print(\"The data does not appear to be normally distributed.\")"
   ]
  },
  {
   "cell_type": "markdown",
   "id": "860c42cb",
   "metadata": {},
   "source": [
    "# Leavene's test non parametric "
   ]
  },
  {
   "cell_type": "code",
   "execution_count": null,
   "id": "967c6572",
   "metadata": {},
   "outputs": [],
   "source": [
    "D=grouped_station_dublin['distance_to_center']\n",
    "L=sampled_la['distance_to_center']"
   ]
  },
  {
   "cell_type": "code",
   "execution_count": null,
   "id": "2475817d",
   "metadata": {},
   "outputs": [],
   "source": [
    "from scipy.stats import levene"
   ]
  },
  {
   "cell_type": "code",
   "execution_count": null,
   "id": "f705bc93",
   "metadata": {},
   "outputs": [],
   "source": [
    "# Perform Levene's Test\n",
    "stat, p_value = levene(D, L)\n",
    "\n",
    "# Print results\n",
    "print(f\"Levene’s Test Statistic: {stat}\")\n",
    "print(f\"P-value: {p_value}\")\n",
    "\n",
    "# Interpret the result\n",
    "if p_value > 0.05:\n",
    "    print(\"Variances are likely equal.\")\n",
    "else:\n",
    "    print(\"Variances are likely not equal.\")\n"
   ]
  },
  {
   "cell_type": "code",
   "execution_count": null,
   "id": "ce74404c",
   "metadata": {},
   "outputs": [],
   "source": []
  },
  {
   "cell_type": "markdown",
   "id": "6623d9d5",
   "metadata": {},
   "source": [
    "# Kruskal test  #non parametric test"
   ]
  },
  {
   "cell_type": "code",
   "execution_count": null,
   "id": "d448378f",
   "metadata": {},
   "outputs": [],
   "source": [
    "##lets see what we get for the non-parametric test -- if there is a different outcome we can confirm that the data used isn't normal\n",
    "\n",
    "#Step 1: Hypothesis\n",
    "\n",
    "#H0: there is no difference in the level of rentals between the three cities(Dublin, Toronto, LA)\n",
    "#H1: there is at least one city that presents a different level of rentals\n",
    "\n",
    "#Step 2: we create the variables\n",
    "\n",
    "R = df_daily['num_rentals']\n",
    "A = dft_daily['num_rentals']\n",
    "M = dfla_daily['num_rentals']"
   ]
  },
  {
   "cell_type": "code",
   "execution_count": null,
   "id": "694721a0",
   "metadata": {},
   "outputs": [],
   "source": [
    "from scipy.stats import kruskal"
   ]
  },
  {
   "cell_type": "code",
   "execution_count": null,
   "id": "9acce29a",
   "metadata": {},
   "outputs": [],
   "source": [
    "stat, p = kruskal(R, A, M)## comparing different p values with alpha\n",
    "\n",
    "print('Statistical Test:', stat)\n",
    "print(\"p-value:\", p)"
   ]
  },
  {
   "cell_type": "markdown",
   "id": "5ad8fca8",
   "metadata": {},
   "source": [
    "#In this case, p-value < 0.05, therefore we reject H0"
   ]
  },
  {
   "cell_type": "code",
   "execution_count": null,
   "id": "cee14b29",
   "metadata": {},
   "outputs": [],
   "source": []
  },
  {
   "cell_type": "code",
   "execution_count": null,
   "id": "79ac1a7c",
   "metadata": {},
   "outputs": [],
   "source": []
  }
 ],
 "metadata": {
  "kernelspec": {
   "display_name": "Python 3 (ipykernel)",
   "language": "python",
   "name": "python3"
  },
  "language_info": {
   "codemirror_mode": {
    "name": "ipython",
    "version": 3
   },
   "file_extension": ".py",
   "mimetype": "text/x-python",
   "name": "python",
   "nbconvert_exporter": "python",
   "pygments_lexer": "ipython3",
   "version": "3.11.5"
  }
 },
 "nbformat": 4,
 "nbformat_minor": 5
}
